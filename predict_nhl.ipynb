{
  "cells": [
    {
      "cell_type": "markdown",
      "metadata": {
        "colab_type": "text",
        "id": "view-in-github"
      },
      "source": [
        "<a href=\"https://colab.research.google.com/github/ccstevie/nhl_model/blob/main/model2.ipynb\" target=\"_parent\"><img src=\"https://colab.research.google.com/assets/colab-badge.svg\" alt=\"Open In Colab\"/></a>"
      ]
    },
    {
      "cell_type": "code",
      "execution_count": 2,
      "metadata": {
        "id": "W_5t1nv-_YaM"
      },
      "outputs": [],
      "source": [
        "import requests\n",
        "import pandas as pd"
      ]
    },
    {
      "cell_type": "code",
      "execution_count": 3,
      "metadata": {
        "colab": {
          "base_uri": "https://localhost:8080/"
        },
        "id": "BzwK_2ov_eCh",
        "outputId": "154688df-b15a-4421-a675-987ef57a2221"
      },
      "outputs": [
        {
          "data": {
            "text/plain": [
              "200"
            ]
          },
          "execution_count": 3,
          "metadata": {},
          "output_type": "execute_result"
        }
      ],
      "source": [
        "urlH = \"https://www.naturalstattrick.com/games.php?fromseason=20132014&thruseason=20232024&stype=2&sit=all&loc=H&team=All&rate=n\"\n",
        "reqH = requests.get(urlH)\n",
        "reqH.status_code"
      ]
    },
    {
      "cell_type": "code",
      "execution_count": 4,
      "metadata": {},
      "outputs": [
        {
          "data": {
            "text/plain": [
              "200"
            ]
          },
          "execution_count": 4,
          "metadata": {},
          "output_type": "execute_result"
        }
      ],
      "source": [
        "urlA = \"https://www.naturalstattrick.com/games.php?fromseason=20132014&thruseason=20232024&stype=2&sit=all&loc=A&team=All&rate=n\"\n",
        "reqA = requests.get(urlA)\n",
        "reqA.status_code"
      ]
    },
    {
      "cell_type": "code",
      "execution_count": 5,
      "metadata": {
        "colab": {
          "base_uri": "https://localhost:8080/",
          "height": 615
        },
        "id": "Np8aTYuw_mQo",
        "outputId": "d16d0045-fa1a-4d6d-fea8-baf9e00d8fb6"
      },
      "outputs": [],
      "source": [
        "dfH = pd.read_html(urlH, header=0, na_values=[\"-\"])[0]\n",
        "dfH.drop(columns=[\"Unnamed: 2\", \"Game\", \"TOI\", \"Attendance\", \"GF%\", \"PDO\", \"SH%\", \"SV%\", \"CF\", \"CA\", \"FF\", \n",
        "                  \"FA\", \"SF\", \"SA\", \"xGF\", \"xGA\", \"SCF\", \"SCA\", \"HDCF\", \"HDCA\", \"HDSF\", \"HDSA\", \"HDGF\", \"HDGA\", \"MDCF\", \"MDCA\",\n",
        "                    \"MDSF\", \"MDSA\", \"MDGF\", \"MDGA\", \"LDCF\", \"LDCA\", \"LDSF\", \"LDSA\", \"LDGF\", \"LDGA\"], inplace=True)\n",
        "dfH = dfH.add_prefix(\"Home \")"
      ]
    },
    {
      "cell_type": "code",
      "execution_count": 6,
      "metadata": {},
      "outputs": [
        {
          "data": {
            "text/plain": [
              "Index(['Home Team', 'Home CF%', 'Home FF%', 'Home SF%', 'Home GF', 'Home GA',\n",
              "       'Home xGF%', 'Home SCF%', 'Home HDCF%', 'Home HDSF%', 'Home HDGF%',\n",
              "       'Home HDSH%', 'Home HDSV%', 'Home MDCF%', 'Home MDSF%', 'Home MDGF%',\n",
              "       'Home MDSH%', 'Home MDSV%', 'Home LDCF%', 'Home LDSF%', 'Home LDGF%',\n",
              "       'Home LDSH%', 'Home LDSV%'],\n",
              "      dtype='object')"
            ]
          },
          "execution_count": 6,
          "metadata": {},
          "output_type": "execute_result"
        }
      ],
      "source": [
        "dfH.columns"
      ]
    },
    {
      "cell_type": "code",
      "execution_count": 7,
      "metadata": {},
      "outputs": [],
      "source": [
        "dfA = pd.read_html(urlA, header=0, na_values=[\"-\"])[0]\n",
        "dfA.drop(columns=[\"Unnamed: 2\", \"Game\", \"TOI\", \"Attendance\", \"GF%\", \"PDO\", \"SH%\", \"SV%\", \"CF\", \"CA\", \"FF\", \n",
        "                  \"FA\", \"SF\", \"SA\", \"xGF\", \"xGA\", \"SCF\", \"SCA\", \"HDCF\", \"HDCA\", \"HDSF\", \"HDSA\", \"HDGF\", \"HDGA\", \"MDCF\", \"MDCA\",\n",
        "                    \"MDSF\", \"MDSA\", \"MDGF\", \"MDGA\", \"LDCF\", \"LDCA\", \"LDSF\", \"LDSA\", \"LDGF\", \"LDGA\"], inplace=True)\n",
        "dfA = dfA.add_prefix(\"Away \")"
      ]
    },
    {
      "cell_type": "code",
      "execution_count": 8,
      "metadata": {},
      "outputs": [],
      "source": [
        "# Merge home and array games to obtain matchup table\n",
        "df = pd.merge(dfH, dfA, left_index=True, right_index=True)"
      ]
    },
    {
      "cell_type": "code",
      "execution_count": 9,
      "metadata": {
        "colab": {
          "base_uri": "https://localhost:8080/"
        },
        "id": "by5_1egpMJ2K",
        "outputId": "a7a5d355-d18b-45c4-da6e-75f71e728083"
      },
      "outputs": [],
      "source": [
        "# Drop unused columns\n",
        "df.dropna(inplace=True)\n",
        "df.drop(columns=[\"Away GF\", \"Away GA\"], inplace=True)"
      ]
    },
    {
      "cell_type": "code",
      "execution_count": 10,
      "metadata": {},
      "outputs": [
        {
          "data": {
            "text/html": [
              "<div>\n",
              "<style scoped>\n",
              "    .dataframe tbody tr th:only-of-type {\n",
              "        vertical-align: middle;\n",
              "    }\n",
              "\n",
              "    .dataframe tbody tr th {\n",
              "        vertical-align: top;\n",
              "    }\n",
              "\n",
              "    .dataframe thead th {\n",
              "        text-align: right;\n",
              "    }\n",
              "</style>\n",
              "<table border=\"1\" class=\"dataframe\">\n",
              "  <thead>\n",
              "    <tr style=\"text-align: right;\">\n",
              "      <th></th>\n",
              "      <th>Home CF%</th>\n",
              "      <th>Home FF%</th>\n",
              "      <th>Home SF%</th>\n",
              "      <th>Home xGF%</th>\n",
              "      <th>Home SCF%</th>\n",
              "      <th>Home HDCF%</th>\n",
              "      <th>Home HDSF%</th>\n",
              "      <th>Home HDGF%</th>\n",
              "      <th>Home HDSH%</th>\n",
              "      <th>Home HDSV%</th>\n",
              "      <th>...</th>\n",
              "      <th>Away MDCF%</th>\n",
              "      <th>Away MDSF%</th>\n",
              "      <th>Away MDGF%</th>\n",
              "      <th>Away MDSH%</th>\n",
              "      <th>Away MDSV%</th>\n",
              "      <th>Away LDCF%</th>\n",
              "      <th>Away LDSF%</th>\n",
              "      <th>Away LDGF%</th>\n",
              "      <th>Away LDSH%</th>\n",
              "      <th>Away LDSV%</th>\n",
              "    </tr>\n",
              "  </thead>\n",
              "  <tbody>\n",
              "    <tr>\n",
              "      <th>1</th>\n",
              "      <td>0.4911</td>\n",
              "      <td>0.5063</td>\n",
              "      <td>0.5224</td>\n",
              "      <td>0.4631</td>\n",
              "      <td>0.4902</td>\n",
              "      <td>0.6667</td>\n",
              "      <td>0.6471</td>\n",
              "      <td>0.6667</td>\n",
              "      <td>0.3636</td>\n",
              "      <td>0.6667</td>\n",
              "      <td>...</td>\n",
              "      <td>0.6061</td>\n",
              "      <td>0.6471</td>\n",
              "      <td>0.6667</td>\n",
              "      <td>0.1818</td>\n",
              "      <td>0.8333</td>\n",
              "      <td>0.537</td>\n",
              "      <td>0.4839</td>\n",
              "      <td>0.0</td>\n",
              "      <td>0.0</td>\n",
              "      <td>0.9375</td>\n",
              "    </tr>\n",
              "  </tbody>\n",
              "</table>\n",
              "<p>1 rows × 40 columns</p>\n",
              "</div>"
            ],
            "text/plain": [
              "   Home CF%  Home FF%  Home SF%  Home xGF%  Home SCF%  Home HDCF%  Home HDSF%  \\\n",
              "1    0.4911    0.5063    0.5224     0.4631     0.4902      0.6667      0.6471   \n",
              "\n",
              "   Home HDGF%  Home HDSH%  Home HDSV%  ...  Away MDCF%  Away MDSF%  \\\n",
              "1      0.6667      0.3636      0.6667  ...      0.6061      0.6471   \n",
              "\n",
              "   Away MDGF%  Away MDSH%  Away MDSV%  Away LDCF%  Away LDSF%  Away LDGF%  \\\n",
              "1      0.6667      0.1818      0.8333       0.537      0.4839         0.0   \n",
              "\n",
              "   Away LDSH%  Away LDSV%  \n",
              "1         0.0      0.9375  \n",
              "\n",
              "[1 rows x 40 columns]"
            ]
          },
          "execution_count": 10,
          "metadata": {},
          "output_type": "execute_result"
        }
      ],
      "source": [
        "X = df.drop([\"Home Team\", \"Away Team\", \"Home GF\", \"Home GA\"], axis=1)\n",
        "# Convert percentage values to decimal form\n",
        "for col in X:\n",
        "    X[col] = X[col] / 100.0\n",
        "X.head(1)"
      ]
    },
    {
      "cell_type": "code",
      "execution_count": 11,
      "metadata": {},
      "outputs": [],
      "source": [
        "y = df[[\"Home GF\", \"Home GA\"]]"
      ]
    },
    {
      "cell_type": "code",
      "execution_count": 12,
      "metadata": {},
      "outputs": [],
      "source": [
        "from sklearn.model_selection import train_test_split\n",
        "\n",
        "X_train, X_test, y_train, y_test = train_test_split(X, y, test_size=0.2, random_state=42)"
      ]
    },
    {
      "cell_type": "code",
      "execution_count": 13,
      "metadata": {},
      "outputs": [
        {
          "data": {
            "text/html": [
              "<style>#sk-container-id-1 {color: black;}#sk-container-id-1 pre{padding: 0;}#sk-container-id-1 div.sk-toggleable {background-color: white;}#sk-container-id-1 label.sk-toggleable__label {cursor: pointer;display: block;width: 100%;margin-bottom: 0;padding: 0.3em;box-sizing: border-box;text-align: center;}#sk-container-id-1 label.sk-toggleable__label-arrow:before {content: \"▸\";float: left;margin-right: 0.25em;color: #696969;}#sk-container-id-1 label.sk-toggleable__label-arrow:hover:before {color: black;}#sk-container-id-1 div.sk-estimator:hover label.sk-toggleable__label-arrow:before {color: black;}#sk-container-id-1 div.sk-toggleable__content {max-height: 0;max-width: 0;overflow: hidden;text-align: left;background-color: #f0f8ff;}#sk-container-id-1 div.sk-toggleable__content pre {margin: 0.2em;color: black;border-radius: 0.25em;background-color: #f0f8ff;}#sk-container-id-1 input.sk-toggleable__control:checked~div.sk-toggleable__content {max-height: 200px;max-width: 100%;overflow: auto;}#sk-container-id-1 input.sk-toggleable__control:checked~label.sk-toggleable__label-arrow:before {content: \"▾\";}#sk-container-id-1 div.sk-estimator input.sk-toggleable__control:checked~label.sk-toggleable__label {background-color: #d4ebff;}#sk-container-id-1 div.sk-label input.sk-toggleable__control:checked~label.sk-toggleable__label {background-color: #d4ebff;}#sk-container-id-1 input.sk-hidden--visually {border: 0;clip: rect(1px 1px 1px 1px);clip: rect(1px, 1px, 1px, 1px);height: 1px;margin: -1px;overflow: hidden;padding: 0;position: absolute;width: 1px;}#sk-container-id-1 div.sk-estimator {font-family: monospace;background-color: #f0f8ff;border: 1px dotted black;border-radius: 0.25em;box-sizing: border-box;margin-bottom: 0.5em;}#sk-container-id-1 div.sk-estimator:hover {background-color: #d4ebff;}#sk-container-id-1 div.sk-parallel-item::after {content: \"\";width: 100%;border-bottom: 1px solid gray;flex-grow: 1;}#sk-container-id-1 div.sk-label:hover label.sk-toggleable__label {background-color: #d4ebff;}#sk-container-id-1 div.sk-serial::before {content: \"\";position: absolute;border-left: 1px solid gray;box-sizing: border-box;top: 0;bottom: 0;left: 50%;z-index: 0;}#sk-container-id-1 div.sk-serial {display: flex;flex-direction: column;align-items: center;background-color: white;padding-right: 0.2em;padding-left: 0.2em;position: relative;}#sk-container-id-1 div.sk-item {position: relative;z-index: 1;}#sk-container-id-1 div.sk-parallel {display: flex;align-items: stretch;justify-content: center;background-color: white;position: relative;}#sk-container-id-1 div.sk-item::before, #sk-container-id-1 div.sk-parallel-item::before {content: \"\";position: absolute;border-left: 1px solid gray;box-sizing: border-box;top: 0;bottom: 0;left: 50%;z-index: -1;}#sk-container-id-1 div.sk-parallel-item {display: flex;flex-direction: column;z-index: 1;position: relative;background-color: white;}#sk-container-id-1 div.sk-parallel-item:first-child::after {align-self: flex-end;width: 50%;}#sk-container-id-1 div.sk-parallel-item:last-child::after {align-self: flex-start;width: 50%;}#sk-container-id-1 div.sk-parallel-item:only-child::after {width: 0;}#sk-container-id-1 div.sk-dashed-wrapped {border: 1px dashed gray;margin: 0 0.4em 0.5em 0.4em;box-sizing: border-box;padding-bottom: 0.4em;background-color: white;}#sk-container-id-1 div.sk-label label {font-family: monospace;font-weight: bold;display: inline-block;line-height: 1.2em;}#sk-container-id-1 div.sk-label-container {text-align: center;}#sk-container-id-1 div.sk-container {/* jupyter's `normalize.less` sets `[hidden] { display: none; }` but bootstrap.min.css set `[hidden] { display: none !important; }` so we also need the `!important` here to be able to override the default hidden behavior on the sphinx rendered scikit-learn.org. See: https://github.com/scikit-learn/scikit-learn/issues/21755 */display: inline-block !important;position: relative;}#sk-container-id-1 div.sk-text-repr-fallback {display: none;}</style><div id=\"sk-container-id-1\" class=\"sk-top-container\"><div class=\"sk-text-repr-fallback\"><pre>MultiOutputRegressor(estimator=RandomForestRegressor(random_state=42))</pre><b>In a Jupyter environment, please rerun this cell to show the HTML representation or trust the notebook. <br />On GitHub, the HTML representation is unable to render, please try loading this page with nbviewer.org.</b></div><div class=\"sk-container\" hidden><div class=\"sk-item sk-dashed-wrapped\"><div class=\"sk-label-container\"><div class=\"sk-label sk-toggleable\"><input class=\"sk-toggleable__control sk-hidden--visually\" id=\"sk-estimator-id-1\" type=\"checkbox\" ><label for=\"sk-estimator-id-1\" class=\"sk-toggleable__label sk-toggleable__label-arrow\">MultiOutputRegressor</label><div class=\"sk-toggleable__content\"><pre>MultiOutputRegressor(estimator=RandomForestRegressor(random_state=42))</pre></div></div></div><div class=\"sk-parallel\"><div class=\"sk-parallel-item\"><div class=\"sk-item\"><div class=\"sk-label-container\"><div class=\"sk-label sk-toggleable\"><input class=\"sk-toggleable__control sk-hidden--visually\" id=\"sk-estimator-id-2\" type=\"checkbox\" ><label for=\"sk-estimator-id-2\" class=\"sk-toggleable__label sk-toggleable__label-arrow\">estimator: RandomForestRegressor</label><div class=\"sk-toggleable__content\"><pre>RandomForestRegressor(random_state=42)</pre></div></div></div><div class=\"sk-serial\"><div class=\"sk-item\"><div class=\"sk-estimator sk-toggleable\"><input class=\"sk-toggleable__control sk-hidden--visually\" id=\"sk-estimator-id-3\" type=\"checkbox\" ><label for=\"sk-estimator-id-3\" class=\"sk-toggleable__label sk-toggleable__label-arrow\">RandomForestRegressor</label><div class=\"sk-toggleable__content\"><pre>RandomForestRegressor(random_state=42)</pre></div></div></div></div></div></div></div></div></div></div>"
            ],
            "text/plain": [
              "MultiOutputRegressor(estimator=RandomForestRegressor(random_state=42))"
            ]
          },
          "execution_count": 13,
          "metadata": {},
          "output_type": "execute_result"
        }
      ],
      "source": [
        "from sklearn.ensemble import RandomForestRegressor\n",
        "from sklearn.multioutput import MultiOutputRegressor\n",
        "\n",
        "base_model = RandomForestRegressor(random_state=42)\n",
        "model = MultiOutputRegressor(base_model)\n",
        "model.fit(X_train, y_train)"
      ]
    },
    {
      "cell_type": "code",
      "execution_count": 14,
      "metadata": {},
      "outputs": [
        {
          "name": "stdout",
          "output_type": "stream",
          "text": [
            "Training Mean Squared Error: 0.0799782832278481\n",
            "Test Mean Squared Error: 0.5092370662460568\n"
          ]
        }
      ],
      "source": [
        "from sklearn.metrics import mean_squared_error\n",
        "y_train_pred = model.predict(X_train)\n",
        "train_mse = mean_squared_error(y_train, y_train_pred)\n",
        "print(\"Training Mean Squared Error:\", train_mse)\n",
        "\n",
        "y_test_pred = model.predict(X_test)\n",
        "test_mse = mean_squared_error(y_test, y_test_pred)\n",
        "print(\"Test Mean Squared Error:\", test_mse)"
      ]
    },
    {
      "cell_type": "code",
      "execution_count": 15,
      "metadata": {},
      "outputs": [
        {
          "name": "stdout",
          "output_type": "stream",
          "text": [
            "Cross-Validation Mean Squared Error Scores:\n",
            "[0.51662192 0.52304399 0.57999209 0.44851978 0.67199019]\n",
            "Mean MSE: 0.5480335937188036\n"
          ]
        }
      ],
      "source": [
        "from sklearn.model_selection import cross_val_score\n",
        "\n",
        "num_folds = 5\n",
        "\n",
        "mse_scores = cross_val_score(model, X, y, cv=num_folds, scoring='neg_mean_squared_error')\n",
        "\n",
        "mse_scores = -mse_scores\n",
        "\n",
        "print(\"Cross-Validation Mean Squared Error Scores:\")\n",
        "print(mse_scores)\n",
        "\n",
        "mean_mse = mse_scores.mean()\n",
        "print(\"Mean MSE:\", mean_mse)"
      ]
    },
    {
      "cell_type": "code",
      "execution_count": 16,
      "metadata": {},
      "outputs": [
        {
          "name": "stdout",
          "output_type": "stream",
          "text": [
            "Today's date: 2024-03-04\n",
            "30 days ago: 2024-02-03\n"
          ]
        }
      ],
      "source": [
        "from datetime import date, timedelta\n",
        "\n",
        "# we will use the last 30 days as our data range\n",
        "today = date.today()\n",
        "print(\"Today's date:\", today)\n",
        "start = today - timedelta(days=30)\n",
        "print(\"30 days ago:\", start)"
      ]
    },
    {
      "cell_type": "code",
      "execution_count": 17,
      "metadata": {},
      "outputs": [
        {
          "data": {
            "text/plain": [
              "200"
            ]
          },
          "execution_count": 17,
          "metadata": {},
          "output_type": "execute_result"
        }
      ],
      "source": [
        "url = f\"https://www.naturalstattrick.com/teamtable.php?fromseason=20232024&thruseason=20232024&stype=2&sit=all&score=all&rate=n&team=all&loc=B&gpf=410&fd={start}&td={today}\"\n",
        "req = requests.get(url)\n",
        "req.status_code"
      ]
    },
    {
      "cell_type": "code",
      "execution_count": 18,
      "metadata": {},
      "outputs": [],
      "source": [
        "df2 = pd.read_html(url, header=0, index_col = 0, na_values=[\"-\"])[0]"
      ]
    },
    {
      "cell_type": "code",
      "execution_count": 19,
      "metadata": {},
      "outputs": [
        {
          "data": {
            "text/plain": [
              "[('Golden Knights', 'Blue Jackets'),\n",
              " ('Panthers', 'Rangers'),\n",
              " ('Blues', 'Flyers'),\n",
              " ('Bruins', 'Maple Leafs'),\n",
              " ('Blackhawks', 'Avalanche'),\n",
              " ('Kraken', 'Flames')]"
            ]
          },
          "execution_count": 19,
          "metadata": {},
          "output_type": "execute_result"
        }
      ],
      "source": [
        "from get_todays_games import getGames\n",
        "\n",
        "matchups = getGames()\n",
        "matchups\n"
      ]
    },
    {
      "cell_type": "code",
      "execution_count": 20,
      "metadata": {},
      "outputs": [
        {
          "data": {
            "text/html": [
              "<div>\n",
              "<style scoped>\n",
              "    .dataframe tbody tr th:only-of-type {\n",
              "        vertical-align: middle;\n",
              "    }\n",
              "\n",
              "    .dataframe tbody tr th {\n",
              "        vertical-align: top;\n",
              "    }\n",
              "\n",
              "    .dataframe thead th {\n",
              "        text-align: right;\n",
              "    }\n",
              "</style>\n",
              "<table border=\"1\" class=\"dataframe\">\n",
              "  <thead>\n",
              "    <tr style=\"text-align: right;\">\n",
              "      <th></th>\n",
              "      <th>Home Team</th>\n",
              "      <th>Home GP</th>\n",
              "      <th>Home TOI</th>\n",
              "      <th>Home W</th>\n",
              "      <th>Home L</th>\n",
              "      <th>Home OTL</th>\n",
              "      <th>Home ROW</th>\n",
              "      <th>Home Points</th>\n",
              "      <th>Home Point %</th>\n",
              "      <th>Home CF</th>\n",
              "      <th>...</th>\n",
              "      <th>Away LDSA</th>\n",
              "      <th>Away LDSF%</th>\n",
              "      <th>Away LDGF</th>\n",
              "      <th>Away LDGA</th>\n",
              "      <th>Away LDGF%</th>\n",
              "      <th>Away LDSH%</th>\n",
              "      <th>Away LDSV%</th>\n",
              "      <th>Away SH%</th>\n",
              "      <th>Away SV%</th>\n",
              "      <th>Away PDO</th>\n",
              "    </tr>\n",
              "  </thead>\n",
              "  <tbody>\n",
              "    <tr>\n",
              "      <th>0</th>\n",
              "      <td>Columbus Blue Jackets</td>\n",
              "      <td>10</td>\n",
              "      <td>600:00</td>\n",
              "      <td>4</td>\n",
              "      <td>6</td>\n",
              "      <td>0</td>\n",
              "      <td>4</td>\n",
              "      <td>8</td>\n",
              "      <td>0.400</td>\n",
              "      <td>655</td>\n",
              "      <td>...</td>\n",
              "      <td>149</td>\n",
              "      <td>45.42</td>\n",
              "      <td>5</td>\n",
              "      <td>6</td>\n",
              "      <td>45.45</td>\n",
              "      <td>4.03</td>\n",
              "      <td>95.97</td>\n",
              "      <td>10.97</td>\n",
              "      <td>88.60</td>\n",
              "      <td>0.996</td>\n",
              "    </tr>\n",
              "    <tr>\n",
              "      <th>1</th>\n",
              "      <td>New York Rangers</td>\n",
              "      <td>12</td>\n",
              "      <td>729:40</td>\n",
              "      <td>10</td>\n",
              "      <td>1</td>\n",
              "      <td>1</td>\n",
              "      <td>10</td>\n",
              "      <td>21</td>\n",
              "      <td>0.875</td>\n",
              "      <td>727</td>\n",
              "      <td>...</td>\n",
              "      <td>147</td>\n",
              "      <td>54.06</td>\n",
              "      <td>7</td>\n",
              "      <td>3</td>\n",
              "      <td>70.00</td>\n",
              "      <td>4.05</td>\n",
              "      <td>97.96</td>\n",
              "      <td>10.62</td>\n",
              "      <td>94.86</td>\n",
              "      <td>1.055</td>\n",
              "    </tr>\n",
              "    <tr>\n",
              "      <th>2</th>\n",
              "      <td>Philadelphia Flyers</td>\n",
              "      <td>12</td>\n",
              "      <td>720:54</td>\n",
              "      <td>7</td>\n",
              "      <td>4</td>\n",
              "      <td>1</td>\n",
              "      <td>7</td>\n",
              "      <td>15</td>\n",
              "      <td>0.625</td>\n",
              "      <td>776</td>\n",
              "      <td>...</td>\n",
              "      <td>165</td>\n",
              "      <td>45.90</td>\n",
              "      <td>4</td>\n",
              "      <td>7</td>\n",
              "      <td>36.36</td>\n",
              "      <td>2.86</td>\n",
              "      <td>95.76</td>\n",
              "      <td>10.58</td>\n",
              "      <td>90.83</td>\n",
              "      <td>1.014</td>\n",
              "    </tr>\n",
              "    <tr>\n",
              "      <th>3</th>\n",
              "      <td>Toronto Maple Leafs</td>\n",
              "      <td>13</td>\n",
              "      <td>785:54</td>\n",
              "      <td>10</td>\n",
              "      <td>3</td>\n",
              "      <td>0</td>\n",
              "      <td>9</td>\n",
              "      <td>20</td>\n",
              "      <td>0.769</td>\n",
              "      <td>818</td>\n",
              "      <td>...</td>\n",
              "      <td>174</td>\n",
              "      <td>44.05</td>\n",
              "      <td>6</td>\n",
              "      <td>9</td>\n",
              "      <td>40.00</td>\n",
              "      <td>4.38</td>\n",
              "      <td>94.83</td>\n",
              "      <td>8.92</td>\n",
              "      <td>89.16</td>\n",
              "      <td>0.981</td>\n",
              "    </tr>\n",
              "    <tr>\n",
              "      <th>4</th>\n",
              "      <td>Colorado Avalanche</td>\n",
              "      <td>13</td>\n",
              "      <td>785:35</td>\n",
              "      <td>5</td>\n",
              "      <td>6</td>\n",
              "      <td>2</td>\n",
              "      <td>5</td>\n",
              "      <td>12</td>\n",
              "      <td>0.462</td>\n",
              "      <td>797</td>\n",
              "      <td>...</td>\n",
              "      <td>159</td>\n",
              "      <td>45.36</td>\n",
              "      <td>1</td>\n",
              "      <td>8</td>\n",
              "      <td>11.11</td>\n",
              "      <td>0.76</td>\n",
              "      <td>94.97</td>\n",
              "      <td>6.94</td>\n",
              "      <td>88.86</td>\n",
              "      <td>0.958</td>\n",
              "    </tr>\n",
              "    <tr>\n",
              "      <th>5</th>\n",
              "      <td>Calgary Flames</td>\n",
              "      <td>11</td>\n",
              "      <td>663:56</td>\n",
              "      <td>8</td>\n",
              "      <td>3</td>\n",
              "      <td>0</td>\n",
              "      <td>8</td>\n",
              "      <td>16</td>\n",
              "      <td>0.727</td>\n",
              "      <td>715</td>\n",
              "      <td>...</td>\n",
              "      <td>146</td>\n",
              "      <td>48.04</td>\n",
              "      <td>8</td>\n",
              "      <td>7</td>\n",
              "      <td>53.33</td>\n",
              "      <td>5.93</td>\n",
              "      <td>95.21</td>\n",
              "      <td>8.36</td>\n",
              "      <td>92.31</td>\n",
              "      <td>1.007</td>\n",
              "    </tr>\n",
              "  </tbody>\n",
              "</table>\n",
              "<p>6 rows × 142 columns</p>\n",
              "</div>"
            ],
            "text/plain": [
              "               Home Team  Home GP Home TOI  Home W  Home L  Home OTL  \\\n",
              "0  Columbus Blue Jackets       10   600:00       4       6         0   \n",
              "1       New York Rangers       12   729:40      10       1         1   \n",
              "2    Philadelphia Flyers       12   720:54       7       4         1   \n",
              "3    Toronto Maple Leafs       13   785:54      10       3         0   \n",
              "4     Colorado Avalanche       13   785:35       5       6         2   \n",
              "5         Calgary Flames       11   663:56       8       3         0   \n",
              "\n",
              "   Home ROW  Home Points  Home Point %  Home CF  ...  Away LDSA  Away LDSF%  \\\n",
              "0         4            8         0.400      655  ...        149       45.42   \n",
              "1        10           21         0.875      727  ...        147       54.06   \n",
              "2         7           15         0.625      776  ...        165       45.90   \n",
              "3         9           20         0.769      818  ...        174       44.05   \n",
              "4         5           12         0.462      797  ...        159       45.36   \n",
              "5         8           16         0.727      715  ...        146       48.04   \n",
              "\n",
              "   Away LDGF  Away LDGA  Away LDGF%  Away LDSH%  Away LDSV%  Away SH%  \\\n",
              "0          5          6       45.45        4.03       95.97     10.97   \n",
              "1          7          3       70.00        4.05       97.96     10.62   \n",
              "2          4          7       36.36        2.86       95.76     10.58   \n",
              "3          6          9       40.00        4.38       94.83      8.92   \n",
              "4          1          8       11.11        0.76       94.97      6.94   \n",
              "5          8          7       53.33        5.93       95.21      8.36   \n",
              "\n",
              "   Away SV%  Away PDO  \n",
              "0     88.60     0.996  \n",
              "1     94.86     1.055  \n",
              "2     90.83     1.014  \n",
              "3     89.16     0.981  \n",
              "4     88.86     0.958  \n",
              "5     92.31     1.007  \n",
              "\n",
              "[6 rows x 142 columns]"
            ]
          },
          "execution_count": 20,
          "metadata": {},
          "output_type": "execute_result"
        }
      ],
      "source": [
        "res = pd.DataFrame()\n",
        "\n",
        "for away, home in matchups:\n",
        "    home_df = df2[df2[\"Team\"].str.contains(home)]\n",
        "    home_df = home_df.add_prefix('Home ')\n",
        "    away_df = df2[df2[\"Team\"].str.contains(away)]\n",
        "    away_df = away_df.add_prefix('Away ')\n",
        "    home_df = home_df.reset_index(drop=True)\n",
        "    away_df = away_df.reset_index(drop=True)\n",
        "    matchup_df = pd.merge(home_df, away_df, left_index=True, right_index=True)\n",
        "    res = pd.concat([res, matchup_df], ignore_index=True)\n",
        "    \n",
        "res.head(10)"
      ]
    },
    {
      "cell_type": "code",
      "execution_count": 21,
      "metadata": {},
      "outputs": [],
      "source": [
        "common_cols = [col for col in res.columns.intersection(df.columns)]\n",
        "matchups_df = res[common_cols]\n",
        "final_df = matchups_df.drop([\"Home Team\", \"Away Team\", \"Home GA\", \"Home GF\"], axis=1)"
      ]
    },
    {
      "cell_type": "code",
      "execution_count": 22,
      "metadata": {},
      "outputs": [
        {
          "data": {
            "text/html": [
              "<div>\n",
              "<style scoped>\n",
              "    .dataframe tbody tr th:only-of-type {\n",
              "        vertical-align: middle;\n",
              "    }\n",
              "\n",
              "    .dataframe tbody tr th {\n",
              "        vertical-align: top;\n",
              "    }\n",
              "\n",
              "    .dataframe thead th {\n",
              "        text-align: right;\n",
              "    }\n",
              "</style>\n",
              "<table border=\"1\" class=\"dataframe\">\n",
              "  <thead>\n",
              "    <tr style=\"text-align: right;\">\n",
              "      <th></th>\n",
              "      <th>Home CF%</th>\n",
              "      <th>Home FF%</th>\n",
              "      <th>Home SF%</th>\n",
              "      <th>Home xGF%</th>\n",
              "      <th>Home SCF%</th>\n",
              "      <th>Home HDCF%</th>\n",
              "      <th>Home HDSF%</th>\n",
              "      <th>Home HDGF%</th>\n",
              "      <th>Home HDSH%</th>\n",
              "      <th>Home HDSV%</th>\n",
              "      <th>...</th>\n",
              "      <th>Away MDCF%</th>\n",
              "      <th>Away MDSF%</th>\n",
              "      <th>Away MDGF%</th>\n",
              "      <th>Away MDSH%</th>\n",
              "      <th>Away MDSV%</th>\n",
              "      <th>Away LDCF%</th>\n",
              "      <th>Away LDSF%</th>\n",
              "      <th>Away LDGF%</th>\n",
              "      <th>Away LDSH%</th>\n",
              "      <th>Away LDSV%</th>\n",
              "    </tr>\n",
              "  </thead>\n",
              "  <tbody>\n",
              "    <tr>\n",
              "      <th>0</th>\n",
              "      <td>0.5101</td>\n",
              "      <td>0.5069</td>\n",
              "      <td>0.4962</td>\n",
              "      <td>0.5169</td>\n",
              "      <td>0.5162</td>\n",
              "      <td>0.5137</td>\n",
              "      <td>0.5215</td>\n",
              "      <td>0.5143</td>\n",
              "      <td>0.2118</td>\n",
              "      <td>0.7821</td>\n",
              "      <td>...</td>\n",
              "      <td>0.4439</td>\n",
              "      <td>0.4745</td>\n",
              "      <td>0.4483</td>\n",
              "      <td>0.1398</td>\n",
              "      <td>0.8447</td>\n",
              "      <td>0.4458</td>\n",
              "      <td>0.4542</td>\n",
              "      <td>0.4545</td>\n",
              "      <td>0.0403</td>\n",
              "      <td>0.9597</td>\n",
              "    </tr>\n",
              "    <tr>\n",
              "      <th>1</th>\n",
              "      <td>0.4699</td>\n",
              "      <td>0.4706</td>\n",
              "      <td>0.4646</td>\n",
              "      <td>0.4607</td>\n",
              "      <td>0.4728</td>\n",
              "      <td>0.4422</td>\n",
              "      <td>0.4510</td>\n",
              "      <td>0.5172</td>\n",
              "      <td>0.1630</td>\n",
              "      <td>0.8750</td>\n",
              "      <td>...</td>\n",
              "      <td>0.5614</td>\n",
              "      <td>0.5487</td>\n",
              "      <td>0.7391</td>\n",
              "      <td>0.1589</td>\n",
              "      <td>0.9318</td>\n",
              "      <td>0.5406</td>\n",
              "      <td>0.5406</td>\n",
              "      <td>0.7000</td>\n",
              "      <td>0.0405</td>\n",
              "      <td>0.9796</td>\n",
              "    </tr>\n",
              "    <tr>\n",
              "      <th>2</th>\n",
              "      <td>0.5139</td>\n",
              "      <td>0.5449</td>\n",
              "      <td>0.5570</td>\n",
              "      <td>0.5225</td>\n",
              "      <td>0.4950</td>\n",
              "      <td>0.4912</td>\n",
              "      <td>0.5059</td>\n",
              "      <td>0.5000</td>\n",
              "      <td>0.2093</td>\n",
              "      <td>0.7857</td>\n",
              "      <td>...</td>\n",
              "      <td>0.4878</td>\n",
              "      <td>0.5065</td>\n",
              "      <td>0.4500</td>\n",
              "      <td>0.1154</td>\n",
              "      <td>0.8553</td>\n",
              "      <td>0.4549</td>\n",
              "      <td>0.4590</td>\n",
              "      <td>0.3636</td>\n",
              "      <td>0.0286</td>\n",
              "      <td>0.9576</td>\n",
              "    </tr>\n",
              "    <tr>\n",
              "      <th>3</th>\n",
              "      <td>0.4946</td>\n",
              "      <td>0.5132</td>\n",
              "      <td>0.5378</td>\n",
              "      <td>0.5359</td>\n",
              "      <td>0.5075</td>\n",
              "      <td>0.5508</td>\n",
              "      <td>0.5604</td>\n",
              "      <td>0.5625</td>\n",
              "      <td>0.2328</td>\n",
              "      <td>0.7692</td>\n",
              "      <td>...</td>\n",
              "      <td>0.4853</td>\n",
              "      <td>0.5200</td>\n",
              "      <td>0.4375</td>\n",
              "      <td>0.0673</td>\n",
              "      <td>0.9063</td>\n",
              "      <td>0.4681</td>\n",
              "      <td>0.4405</td>\n",
              "      <td>0.4000</td>\n",
              "      <td>0.0438</td>\n",
              "      <td>0.9483</td>\n",
              "    </tr>\n",
              "    <tr>\n",
              "      <th>4</th>\n",
              "      <td>0.4984</td>\n",
              "      <td>0.4978</td>\n",
              "      <td>0.5037</td>\n",
              "      <td>0.4745</td>\n",
              "      <td>0.5088</td>\n",
              "      <td>0.5060</td>\n",
              "      <td>0.5088</td>\n",
              "      <td>0.4722</td>\n",
              "      <td>0.1478</td>\n",
              "      <td>0.8288</td>\n",
              "      <td>...</td>\n",
              "      <td>0.3950</td>\n",
              "      <td>0.3882</td>\n",
              "      <td>0.2143</td>\n",
              "      <td>0.0455</td>\n",
              "      <td>0.8942</td>\n",
              "      <td>0.4703</td>\n",
              "      <td>0.4536</td>\n",
              "      <td>0.1111</td>\n",
              "      <td>0.0076</td>\n",
              "      <td>0.9497</td>\n",
              "    </tr>\n",
              "    <tr>\n",
              "      <th>5</th>\n",
              "      <td>0.5170</td>\n",
              "      <td>0.5225</td>\n",
              "      <td>0.5007</td>\n",
              "      <td>0.5462</td>\n",
              "      <td>0.5122</td>\n",
              "      <td>0.4630</td>\n",
              "      <td>0.4220</td>\n",
              "      <td>0.5789</td>\n",
              "      <td>0.3014</td>\n",
              "      <td>0.8400</td>\n",
              "      <td>...</td>\n",
              "      <td>0.5658</td>\n",
              "      <td>0.5333</td>\n",
              "      <td>0.5833</td>\n",
              "      <td>0.0875</td>\n",
              "      <td>0.9286</td>\n",
              "      <td>0.4948</td>\n",
              "      <td>0.4804</td>\n",
              "      <td>0.5333</td>\n",
              "      <td>0.0593</td>\n",
              "      <td>0.9521</td>\n",
              "    </tr>\n",
              "  </tbody>\n",
              "</table>\n",
              "<p>6 rows × 40 columns</p>\n",
              "</div>"
            ],
            "text/plain": [
              "   Home CF%  Home FF%  Home SF%  Home xGF%  Home SCF%  Home HDCF%  Home HDSF%  \\\n",
              "0    0.5101    0.5069    0.4962     0.5169     0.5162      0.5137      0.5215   \n",
              "1    0.4699    0.4706    0.4646     0.4607     0.4728      0.4422      0.4510   \n",
              "2    0.5139    0.5449    0.5570     0.5225     0.4950      0.4912      0.5059   \n",
              "3    0.4946    0.5132    0.5378     0.5359     0.5075      0.5508      0.5604   \n",
              "4    0.4984    0.4978    0.5037     0.4745     0.5088      0.5060      0.5088   \n",
              "5    0.5170    0.5225    0.5007     0.5462     0.5122      0.4630      0.4220   \n",
              "\n",
              "   Home HDGF%  Home HDSH%  Home HDSV%  ...  Away MDCF%  Away MDSF%  \\\n",
              "0      0.5143      0.2118      0.7821  ...      0.4439      0.4745   \n",
              "1      0.5172      0.1630      0.8750  ...      0.5614      0.5487   \n",
              "2      0.5000      0.2093      0.7857  ...      0.4878      0.5065   \n",
              "3      0.5625      0.2328      0.7692  ...      0.4853      0.5200   \n",
              "4      0.4722      0.1478      0.8288  ...      0.3950      0.3882   \n",
              "5      0.5789      0.3014      0.8400  ...      0.5658      0.5333   \n",
              "\n",
              "   Away MDGF%  Away MDSH%  Away MDSV%  Away LDCF%  Away LDSF%  Away LDGF%  \\\n",
              "0      0.4483      0.1398      0.8447      0.4458      0.4542      0.4545   \n",
              "1      0.7391      0.1589      0.9318      0.5406      0.5406      0.7000   \n",
              "2      0.4500      0.1154      0.8553      0.4549      0.4590      0.3636   \n",
              "3      0.4375      0.0673      0.9063      0.4681      0.4405      0.4000   \n",
              "4      0.2143      0.0455      0.8942      0.4703      0.4536      0.1111   \n",
              "5      0.5833      0.0875      0.9286      0.4948      0.4804      0.5333   \n",
              "\n",
              "   Away LDSH%  Away LDSV%  \n",
              "0      0.0403      0.9597  \n",
              "1      0.0405      0.9796  \n",
              "2      0.0286      0.9576  \n",
              "3      0.0438      0.9483  \n",
              "4      0.0076      0.9497  \n",
              "5      0.0593      0.9521  \n",
              "\n",
              "[6 rows x 40 columns]"
            ]
          },
          "execution_count": 22,
          "metadata": {},
          "output_type": "execute_result"
        }
      ],
      "source": [
        "# Convert percentage values to decimal form\n",
        "for col in final_df:\n",
        "    final_df[col] = final_df[col] / 100.0\n",
        "final_df.head(10)"
      ]
    },
    {
      "cell_type": "code",
      "execution_count": 25,
      "metadata": {},
      "outputs": [],
      "source": [
        "predictions = model.predict(final_df)"
      ]
    },
    {
      "cell_type": "code",
      "execution_count": 64,
      "metadata": {},
      "outputs": [],
      "source": [
        "predictions_df = pd.DataFrame(predictions, columns=[\"X Home Goals\", \"X Away Goals\"])\n",
        "predictions_df = pd.concat([matchups_df[[\"Home Team\", \"Away Team\"]], predictions_df], axis=1)"
      ]
    },
    {
      "cell_type": "code",
      "execution_count": 65,
      "metadata": {},
      "outputs": [],
      "source": [
        "predictions_df = predictions_df.reindex(['Date', *predictions_df.columns], axis=1).assign(Date=today)"
      ]
    },
    {
      "cell_type": "code",
      "execution_count": 66,
      "metadata": {},
      "outputs": [],
      "source": [
        "predictions_df[\"X Home Spread\"] = round(predictions_df[\"X Home Goals\"]-predictions_df[\"X Away Goals\"], 2)"
      ]
    },
    {
      "cell_type": "code",
      "execution_count": 67,
      "metadata": {},
      "outputs": [],
      "source": [
        "predictions_df['X Winner'] = predictions_df.apply(lambda row: row['Home Team'] if row['X Home Goals'] > row['X Away Goals'] else row['Away Team'] if row['X Away Goals'] > row['X Home Goals'] else 'Draw', axis=1)"
      ]
    },
    {
      "cell_type": "code",
      "execution_count": 68,
      "metadata": {},
      "outputs": [
        {
          "data": {
            "text/html": [
              "<div>\n",
              "<style scoped>\n",
              "    .dataframe tbody tr th:only-of-type {\n",
              "        vertical-align: middle;\n",
              "    }\n",
              "\n",
              "    .dataframe tbody tr th {\n",
              "        vertical-align: top;\n",
              "    }\n",
              "\n",
              "    .dataframe thead th {\n",
              "        text-align: right;\n",
              "    }\n",
              "</style>\n",
              "<table border=\"1\" class=\"dataframe\">\n",
              "  <thead>\n",
              "    <tr style=\"text-align: right;\">\n",
              "      <th></th>\n",
              "      <th>Date</th>\n",
              "      <th>Home Team</th>\n",
              "      <th>Away Team</th>\n",
              "      <th>X Home Goals</th>\n",
              "      <th>X Away Goals</th>\n",
              "      <th>X Home Spread</th>\n",
              "      <th>X Winner</th>\n",
              "    </tr>\n",
              "  </thead>\n",
              "  <tbody>\n",
              "    <tr>\n",
              "      <th>0</th>\n",
              "      <td>2024-03-04</td>\n",
              "      <td>Columbus Blue Jackets</td>\n",
              "      <td>Vegas Golden Knights</td>\n",
              "      <td>3.42</td>\n",
              "      <td>3.56</td>\n",
              "      <td>-0.14</td>\n",
              "      <td>Vegas Golden Knights</td>\n",
              "    </tr>\n",
              "    <tr>\n",
              "      <th>1</th>\n",
              "      <td>2024-03-04</td>\n",
              "      <td>New York Rangers</td>\n",
              "      <td>Florida Panthers</td>\n",
              "      <td>2.97</td>\n",
              "      <td>3.46</td>\n",
              "      <td>-0.49</td>\n",
              "      <td>Florida Panthers</td>\n",
              "    </tr>\n",
              "    <tr>\n",
              "      <th>2</th>\n",
              "      <td>2024-03-04</td>\n",
              "      <td>Philadelphia Flyers</td>\n",
              "      <td>St Louis Blues</td>\n",
              "      <td>3.35</td>\n",
              "      <td>3.66</td>\n",
              "      <td>-0.31</td>\n",
              "      <td>St Louis Blues</td>\n",
              "    </tr>\n",
              "    <tr>\n",
              "      <th>3</th>\n",
              "      <td>2024-03-04</td>\n",
              "      <td>Toronto Maple Leafs</td>\n",
              "      <td>Boston Bruins</td>\n",
              "      <td>4.15</td>\n",
              "      <td>3.43</td>\n",
              "      <td>0.72</td>\n",
              "      <td>Toronto Maple Leafs</td>\n",
              "    </tr>\n",
              "    <tr>\n",
              "      <th>4</th>\n",
              "      <td>2024-03-04</td>\n",
              "      <td>Colorado Avalanche</td>\n",
              "      <td>Chicago Blackhawks</td>\n",
              "      <td>3.60</td>\n",
              "      <td>2.66</td>\n",
              "      <td>0.94</td>\n",
              "      <td>Colorado Avalanche</td>\n",
              "    </tr>\n",
              "    <tr>\n",
              "      <th>5</th>\n",
              "      <td>2024-03-04</td>\n",
              "      <td>Calgary Flames</td>\n",
              "      <td>Seattle Kraken</td>\n",
              "      <td>3.91</td>\n",
              "      <td>2.97</td>\n",
              "      <td>0.94</td>\n",
              "      <td>Calgary Flames</td>\n",
              "    </tr>\n",
              "  </tbody>\n",
              "</table>\n",
              "</div>"
            ],
            "text/plain": [
              "         Date              Home Team             Away Team  X Home Goals  \\\n",
              "0  2024-03-04  Columbus Blue Jackets  Vegas Golden Knights          3.42   \n",
              "1  2024-03-04       New York Rangers      Florida Panthers          2.97   \n",
              "2  2024-03-04    Philadelphia Flyers        St Louis Blues          3.35   \n",
              "3  2024-03-04    Toronto Maple Leafs         Boston Bruins          4.15   \n",
              "4  2024-03-04     Colorado Avalanche    Chicago Blackhawks          3.60   \n",
              "5  2024-03-04         Calgary Flames        Seattle Kraken          3.91   \n",
              "\n",
              "   X Away Goals  X Home Spread              X Winner  \n",
              "0          3.56          -0.14  Vegas Golden Knights  \n",
              "1          3.46          -0.49      Florida Panthers  \n",
              "2          3.66          -0.31        St Louis Blues  \n",
              "3          3.43           0.72   Toronto Maple Leafs  \n",
              "4          2.66           0.94    Colorado Avalanche  \n",
              "5          2.97           0.94        Calgary Flames  "
            ]
          },
          "execution_count": 68,
          "metadata": {},
          "output_type": "execute_result"
        }
      ],
      "source": [
        "predictions_df"
      ]
    },
    {
      "cell_type": "code",
      "execution_count": 69,
      "metadata": {},
      "outputs": [],
      "source": [
        "# Write today's predictions to csv\n",
        "f = open(\"predictions.csv\", 'w')\n",
        "\n",
        "for col in predictions_df.columns.values:\n",
        "    f.write(col + \",\")\n",
        "\n",
        "f.write(\"\\n\")\n",
        "\n",
        "for col in predictions_df.values:\n",
        "    for row in col:\n",
        "        f.write(str(row) + \",\")\n",
        "    f.write(\"\\n\")\n",
        "\n",
        "f.close()"
      ]
    },
    {
      "cell_type": "code",
      "execution_count": 70,
      "metadata": {},
      "outputs": [],
      "source": [
        "# Add predictions to record.csv\n",
        "f = open(\"record.csv\", 'a')\n",
        "\n",
        "for col in predictions_df.values:\n",
        "    for row in col:\n",
        "        f.write(str(row) + \",\")\n",
        "    f.write(\"\\n\")\n",
        "\n",
        "f.close()"
      ]
    },
    {
      "cell_type": "code",
      "execution_count": null,
      "metadata": {},
      "outputs": [],
      "source": []
    }
  ],
  "metadata": {
    "colab": {
      "include_colab_link": true,
      "provenance": []
    },
    "kernelspec": {
      "display_name": "Python 3",
      "name": "python3"
    },
    "language_info": {
      "codemirror_mode": {
        "name": "ipython",
        "version": 3
      },
      "file_extension": ".py",
      "mimetype": "text/x-python",
      "name": "python",
      "nbconvert_exporter": "python",
      "pygments_lexer": "ipython3",
      "version": "3.10.5"
    }
  },
  "nbformat": 4,
  "nbformat_minor": 0
}
