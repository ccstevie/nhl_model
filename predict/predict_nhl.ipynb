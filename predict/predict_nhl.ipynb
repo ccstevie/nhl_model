{
  "cells": [
    {
      "cell_type": "markdown",
      "metadata": {
        "colab_type": "text",
        "id": "view-in-github"
      },
      "source": [
        "<a href=\"https://colab.research.google.com/github/ccstevie/nhl_model/blob/main/model2.ipynb\" target=\"_parent\"><img src=\"https://colab.research.google.com/assets/colab-badge.svg\" alt=\"Open In Colab\"/></a>"
      ]
    },
    {
      "cell_type": "code",
      "execution_count": 1,
      "metadata": {
        "id": "W_5t1nv-_YaM"
      },
      "outputs": [],
      "source": [
        "import requests\n",
        "import pandas as pd"
      ]
    },
    {
      "cell_type": "code",
      "execution_count": 2,
      "metadata": {
        "colab": {
          "base_uri": "https://localhost:8080/"
        },
        "id": "BzwK_2ov_eCh",
        "outputId": "154688df-b15a-4421-a675-987ef57a2221"
      },
      "outputs": [
        {
          "data": {
            "text/plain": [
              "200"
            ]
          },
          "execution_count": 2,
          "metadata": {},
          "output_type": "execute_result"
        }
      ],
      "source": [
        "urlH = \"https://www.naturalstattrick.com/games.php?fromseason=20132014&thruseason=20232024&stype=2&sit=all&loc=H&team=All&rate=n\"\n",
        "reqH = requests.get(urlH)\n",
        "reqH.status_code"
      ]
    },
    {
      "cell_type": "code",
      "execution_count": 3,
      "metadata": {},
      "outputs": [
        {
          "data": {
            "text/plain": [
              "200"
            ]
          },
          "execution_count": 3,
          "metadata": {},
          "output_type": "execute_result"
        }
      ],
      "source": [
        "urlA = \"https://www.naturalstattrick.com/games.php?fromseason=20132014&thruseason=20232024&stype=2&sit=all&loc=A&team=All&rate=n\"\n",
        "reqA = requests.get(urlA)\n",
        "reqA.status_code"
      ]
    },
    {
      "cell_type": "code",
      "execution_count": 4,
      "metadata": {
        "colab": {
          "base_uri": "https://localhost:8080/",
          "height": 615
        },
        "id": "Np8aTYuw_mQo",
        "outputId": "d16d0045-fa1a-4d6d-fea8-baf9e00d8fb6"
      },
      "outputs": [],
      "source": [
        "dfH = pd.read_html(urlH, header=0, na_values=[\"-\"])[0]\n",
        "dfH.drop(columns=[\"Unnamed: 2\", \"Game\", \"TOI\", \"Attendance\", \"GF%\", \"PDO\", \"SH%\", \"SV%\", \"CF\", \"CA\", \"FF\", \n",
        "                  \"FA\", \"SF\", \"SA\", \"xGF\", \"xGA\", \"SCF\", \"SCA\", \"HDCF\", \"HDCA\", \"HDSF\", \"HDSA\", \"HDGF\", \"HDGA\", \"MDCF\", \"MDCA\",\n",
        "                    \"MDSF\", \"MDSA\", \"MDGF\", \"MDGA\", \"LDCF\", \"LDCA\", \"LDSF\", \"LDSA\", \"LDGF\", \"LDGA\"], inplace=True)\n",
        "dfH = dfH.add_prefix(\"Home \")"
      ]
    },
    {
      "cell_type": "code",
      "execution_count": 5,
      "metadata": {},
      "outputs": [
        {
          "data": {
            "text/plain": [
              "Index(['Home Team', 'Home CF%', 'Home FF%', 'Home SF%', 'Home GF', 'Home GA',\n",
              "       'Home xGF%', 'Home SCF%', 'Home HDCF%', 'Home HDSF%', 'Home HDGF%',\n",
              "       'Home HDSH%', 'Home HDSV%', 'Home MDCF%', 'Home MDSF%', 'Home MDGF%',\n",
              "       'Home MDSH%', 'Home MDSV%', 'Home LDCF%', 'Home LDSF%', 'Home LDGF%',\n",
              "       'Home LDSH%', 'Home LDSV%'],\n",
              "      dtype='object')"
            ]
          },
          "execution_count": 5,
          "metadata": {},
          "output_type": "execute_result"
        }
      ],
      "source": [
        "dfH.columns"
      ]
    },
    {
      "cell_type": "code",
      "execution_count": 6,
      "metadata": {},
      "outputs": [],
      "source": [
        "dfA = pd.read_html(urlA, header=0, na_values=[\"-\"])[0]\n",
        "dfA.drop(columns=[\"Unnamed: 2\", \"Game\", \"TOI\", \"Attendance\", \"GF%\", \"PDO\", \"SH%\", \"SV%\", \"CF\", \"CA\", \"FF\", \n",
        "                  \"FA\", \"SF\", \"SA\", \"xGF\", \"xGA\", \"SCF\", \"SCA\", \"HDCF\", \"HDCA\", \"HDSF\", \"HDSA\", \"HDGF\", \"HDGA\", \"MDCF\", \"MDCA\",\n",
        "                    \"MDSF\", \"MDSA\", \"MDGF\", \"MDGA\", \"LDCF\", \"LDCA\", \"LDSF\", \"LDSA\", \"LDGF\", \"LDGA\"], inplace=True)\n",
        "dfA = dfA.add_prefix(\"Away \")"
      ]
    },
    {
      "cell_type": "code",
      "execution_count": 7,
      "metadata": {},
      "outputs": [],
      "source": [
        "# Merge home and array games to obtain matchup table\n",
        "df = pd.merge(dfH, dfA, left_index=True, right_index=True)"
      ]
    },
    {
      "cell_type": "code",
      "execution_count": 8,
      "metadata": {
        "colab": {
          "base_uri": "https://localhost:8080/"
        },
        "id": "by5_1egpMJ2K",
        "outputId": "a7a5d355-d18b-45c4-da6e-75f71e728083"
      },
      "outputs": [],
      "source": [
        "# Drop unused columns\n",
        "df.dropna(inplace=True)\n",
        "df.drop(columns=[\"Away GF\", \"Away GA\"], inplace=True)"
      ]
    },
    {
      "cell_type": "code",
      "execution_count": 9,
      "metadata": {},
      "outputs": [
        {
          "data": {
            "text/html": [
              "<div>\n",
              "<style scoped>\n",
              "    .dataframe tbody tr th:only-of-type {\n",
              "        vertical-align: middle;\n",
              "    }\n",
              "\n",
              "    .dataframe tbody tr th {\n",
              "        vertical-align: top;\n",
              "    }\n",
              "\n",
              "    .dataframe thead th {\n",
              "        text-align: right;\n",
              "    }\n",
              "</style>\n",
              "<table border=\"1\" class=\"dataframe\">\n",
              "  <thead>\n",
              "    <tr style=\"text-align: right;\">\n",
              "      <th></th>\n",
              "      <th>Home CF%</th>\n",
              "      <th>Home FF%</th>\n",
              "      <th>Home SF%</th>\n",
              "      <th>Home xGF%</th>\n",
              "      <th>Home SCF%</th>\n",
              "      <th>Home HDCF%</th>\n",
              "      <th>Home HDSF%</th>\n",
              "      <th>Home HDGF%</th>\n",
              "      <th>Home HDSH%</th>\n",
              "      <th>Home HDSV%</th>\n",
              "      <th>...</th>\n",
              "      <th>Away MDCF%</th>\n",
              "      <th>Away MDSF%</th>\n",
              "      <th>Away MDGF%</th>\n",
              "      <th>Away MDSH%</th>\n",
              "      <th>Away MDSV%</th>\n",
              "      <th>Away LDCF%</th>\n",
              "      <th>Away LDSF%</th>\n",
              "      <th>Away LDGF%</th>\n",
              "      <th>Away LDSH%</th>\n",
              "      <th>Away LDSV%</th>\n",
              "    </tr>\n",
              "  </thead>\n",
              "  <tbody>\n",
              "    <tr>\n",
              "      <th>1</th>\n",
              "      <td>0.4911</td>\n",
              "      <td>0.5063</td>\n",
              "      <td>0.5224</td>\n",
              "      <td>0.4631</td>\n",
              "      <td>0.4902</td>\n",
              "      <td>0.6667</td>\n",
              "      <td>0.6471</td>\n",
              "      <td>0.6667</td>\n",
              "      <td>0.3636</td>\n",
              "      <td>0.6667</td>\n",
              "      <td>...</td>\n",
              "      <td>0.6061</td>\n",
              "      <td>0.6471</td>\n",
              "      <td>0.6667</td>\n",
              "      <td>0.1818</td>\n",
              "      <td>0.8333</td>\n",
              "      <td>0.537</td>\n",
              "      <td>0.4839</td>\n",
              "      <td>0.0</td>\n",
              "      <td>0.0</td>\n",
              "      <td>0.9375</td>\n",
              "    </tr>\n",
              "  </tbody>\n",
              "</table>\n",
              "<p>1 rows × 40 columns</p>\n",
              "</div>"
            ],
            "text/plain": [
              "   Home CF%  Home FF%  Home SF%  Home xGF%  Home SCF%  Home HDCF%  Home HDSF%  \\\n",
              "1    0.4911    0.5063    0.5224     0.4631     0.4902      0.6667      0.6471   \n",
              "\n",
              "   Home HDGF%  Home HDSH%  Home HDSV%  ...  Away MDCF%  Away MDSF%  \\\n",
              "1      0.6667      0.3636      0.6667  ...      0.6061      0.6471   \n",
              "\n",
              "   Away MDGF%  Away MDSH%  Away MDSV%  Away LDCF%  Away LDSF%  Away LDGF%  \\\n",
              "1      0.6667      0.1818      0.8333       0.537      0.4839         0.0   \n",
              "\n",
              "   Away LDSH%  Away LDSV%  \n",
              "1         0.0      0.9375  \n",
              "\n",
              "[1 rows x 40 columns]"
            ]
          },
          "execution_count": 9,
          "metadata": {},
          "output_type": "execute_result"
        }
      ],
      "source": [
        "X = df.drop([\"Home Team\", \"Away Team\", \"Home GF\", \"Home GA\"], axis=1)\n",
        "# Convert percentage values to decimal form\n",
        "for col in X:\n",
        "    X[col] = X[col] / 100.0\n",
        "X.head(1)"
      ]
    },
    {
      "cell_type": "code",
      "execution_count": 10,
      "metadata": {},
      "outputs": [],
      "source": [
        "y = df[[\"Home GF\", \"Home GA\"]]"
      ]
    },
    {
      "cell_type": "code",
      "execution_count": 11,
      "metadata": {},
      "outputs": [],
      "source": [
        "from sklearn.model_selection import train_test_split\n",
        "\n",
        "X_train, X_test, y_train, y_test = train_test_split(X, y, test_size=0.2, random_state=42)"
      ]
    },
    {
      "cell_type": "code",
      "execution_count": 12,
      "metadata": {},
      "outputs": [
        {
          "data": {
            "text/html": [
              "<style>#sk-container-id-1 {color: black;}#sk-container-id-1 pre{padding: 0;}#sk-container-id-1 div.sk-toggleable {background-color: white;}#sk-container-id-1 label.sk-toggleable__label {cursor: pointer;display: block;width: 100%;margin-bottom: 0;padding: 0.3em;box-sizing: border-box;text-align: center;}#sk-container-id-1 label.sk-toggleable__label-arrow:before {content: \"▸\";float: left;margin-right: 0.25em;color: #696969;}#sk-container-id-1 label.sk-toggleable__label-arrow:hover:before {color: black;}#sk-container-id-1 div.sk-estimator:hover label.sk-toggleable__label-arrow:before {color: black;}#sk-container-id-1 div.sk-toggleable__content {max-height: 0;max-width: 0;overflow: hidden;text-align: left;background-color: #f0f8ff;}#sk-container-id-1 div.sk-toggleable__content pre {margin: 0.2em;color: black;border-radius: 0.25em;background-color: #f0f8ff;}#sk-container-id-1 input.sk-toggleable__control:checked~div.sk-toggleable__content {max-height: 200px;max-width: 100%;overflow: auto;}#sk-container-id-1 input.sk-toggleable__control:checked~label.sk-toggleable__label-arrow:before {content: \"▾\";}#sk-container-id-1 div.sk-estimator input.sk-toggleable__control:checked~label.sk-toggleable__label {background-color: #d4ebff;}#sk-container-id-1 div.sk-label input.sk-toggleable__control:checked~label.sk-toggleable__label {background-color: #d4ebff;}#sk-container-id-1 input.sk-hidden--visually {border: 0;clip: rect(1px 1px 1px 1px);clip: rect(1px, 1px, 1px, 1px);height: 1px;margin: -1px;overflow: hidden;padding: 0;position: absolute;width: 1px;}#sk-container-id-1 div.sk-estimator {font-family: monospace;background-color: #f0f8ff;border: 1px dotted black;border-radius: 0.25em;box-sizing: border-box;margin-bottom: 0.5em;}#sk-container-id-1 div.sk-estimator:hover {background-color: #d4ebff;}#sk-container-id-1 div.sk-parallel-item::after {content: \"\";width: 100%;border-bottom: 1px solid gray;flex-grow: 1;}#sk-container-id-1 div.sk-label:hover label.sk-toggleable__label {background-color: #d4ebff;}#sk-container-id-1 div.sk-serial::before {content: \"\";position: absolute;border-left: 1px solid gray;box-sizing: border-box;top: 0;bottom: 0;left: 50%;z-index: 0;}#sk-container-id-1 div.sk-serial {display: flex;flex-direction: column;align-items: center;background-color: white;padding-right: 0.2em;padding-left: 0.2em;position: relative;}#sk-container-id-1 div.sk-item {position: relative;z-index: 1;}#sk-container-id-1 div.sk-parallel {display: flex;align-items: stretch;justify-content: center;background-color: white;position: relative;}#sk-container-id-1 div.sk-item::before, #sk-container-id-1 div.sk-parallel-item::before {content: \"\";position: absolute;border-left: 1px solid gray;box-sizing: border-box;top: 0;bottom: 0;left: 50%;z-index: -1;}#sk-container-id-1 div.sk-parallel-item {display: flex;flex-direction: column;z-index: 1;position: relative;background-color: white;}#sk-container-id-1 div.sk-parallel-item:first-child::after {align-self: flex-end;width: 50%;}#sk-container-id-1 div.sk-parallel-item:last-child::after {align-self: flex-start;width: 50%;}#sk-container-id-1 div.sk-parallel-item:only-child::after {width: 0;}#sk-container-id-1 div.sk-dashed-wrapped {border: 1px dashed gray;margin: 0 0.4em 0.5em 0.4em;box-sizing: border-box;padding-bottom: 0.4em;background-color: white;}#sk-container-id-1 div.sk-label label {font-family: monospace;font-weight: bold;display: inline-block;line-height: 1.2em;}#sk-container-id-1 div.sk-label-container {text-align: center;}#sk-container-id-1 div.sk-container {/* jupyter's `normalize.less` sets `[hidden] { display: none; }` but bootstrap.min.css set `[hidden] { display: none !important; }` so we also need the `!important` here to be able to override the default hidden behavior on the sphinx rendered scikit-learn.org. See: https://github.com/scikit-learn/scikit-learn/issues/21755 */display: inline-block !important;position: relative;}#sk-container-id-1 div.sk-text-repr-fallback {display: none;}</style><div id=\"sk-container-id-1\" class=\"sk-top-container\"><div class=\"sk-text-repr-fallback\"><pre>MultiOutputRegressor(estimator=RandomForestRegressor(random_state=42))</pre><b>In a Jupyter environment, please rerun this cell to show the HTML representation or trust the notebook. <br />On GitHub, the HTML representation is unable to render, please try loading this page with nbviewer.org.</b></div><div class=\"sk-container\" hidden><div class=\"sk-item sk-dashed-wrapped\"><div class=\"sk-label-container\"><div class=\"sk-label sk-toggleable\"><input class=\"sk-toggleable__control sk-hidden--visually\" id=\"sk-estimator-id-1\" type=\"checkbox\" ><label for=\"sk-estimator-id-1\" class=\"sk-toggleable__label sk-toggleable__label-arrow\">MultiOutputRegressor</label><div class=\"sk-toggleable__content\"><pre>MultiOutputRegressor(estimator=RandomForestRegressor(random_state=42))</pre></div></div></div><div class=\"sk-parallel\"><div class=\"sk-parallel-item\"><div class=\"sk-item\"><div class=\"sk-label-container\"><div class=\"sk-label sk-toggleable\"><input class=\"sk-toggleable__control sk-hidden--visually\" id=\"sk-estimator-id-2\" type=\"checkbox\" ><label for=\"sk-estimator-id-2\" class=\"sk-toggleable__label sk-toggleable__label-arrow\">estimator: RandomForestRegressor</label><div class=\"sk-toggleable__content\"><pre>RandomForestRegressor(random_state=42)</pre></div></div></div><div class=\"sk-serial\"><div class=\"sk-item\"><div class=\"sk-estimator sk-toggleable\"><input class=\"sk-toggleable__control sk-hidden--visually\" id=\"sk-estimator-id-3\" type=\"checkbox\" ><label for=\"sk-estimator-id-3\" class=\"sk-toggleable__label sk-toggleable__label-arrow\">RandomForestRegressor</label><div class=\"sk-toggleable__content\"><pre>RandomForestRegressor(random_state=42)</pre></div></div></div></div></div></div></div></div></div></div>"
            ],
            "text/plain": [
              "MultiOutputRegressor(estimator=RandomForestRegressor(random_state=42))"
            ]
          },
          "execution_count": 12,
          "metadata": {},
          "output_type": "execute_result"
        }
      ],
      "source": [
        "from sklearn.ensemble import RandomForestRegressor\n",
        "from sklearn.multioutput import MultiOutputRegressor\n",
        "\n",
        "base_model = RandomForestRegressor(random_state=42)\n",
        "model = MultiOutputRegressor(base_model)\n",
        "model.fit(X_train, y_train)"
      ]
    },
    {
      "cell_type": "code",
      "execution_count": 13,
      "metadata": {},
      "outputs": [
        {
          "name": "stdout",
          "output_type": "stream",
          "text": [
            "Training Mean Squared Error: 0.0799782832278481\n",
            "Test Mean Squared Error: 0.5092370662460568\n"
          ]
        }
      ],
      "source": [
        "from sklearn.metrics import mean_squared_error\n",
        "y_train_pred = model.predict(X_train)\n",
        "train_mse = mean_squared_error(y_train, y_train_pred)\n",
        "print(\"Training Mean Squared Error:\", train_mse)\n",
        "\n",
        "y_test_pred = model.predict(X_test)\n",
        "test_mse = mean_squared_error(y_test, y_test_pred)\n",
        "print(\"Test Mean Squared Error:\", test_mse)"
      ]
    },
    {
      "cell_type": "code",
      "execution_count": 14,
      "metadata": {},
      "outputs": [
        {
          "name": "stdout",
          "output_type": "stream",
          "text": [
            "Cross-Validation Mean Squared Error Scores:\n",
            "[0.51662192 0.52304399 0.57999209 0.44851978 0.67199019]\n",
            "Mean MSE: 0.5480335937188036\n"
          ]
        }
      ],
      "source": [
        "from sklearn.model_selection import cross_val_score\n",
        "\n",
        "num_folds = 5\n",
        "\n",
        "mse_scores = cross_val_score(model, X, y, cv=num_folds, scoring='neg_mean_squared_error')\n",
        "\n",
        "mse_scores = -mse_scores\n",
        "\n",
        "print(\"Cross-Validation Mean Squared Error Scores:\")\n",
        "print(mse_scores)\n",
        "\n",
        "mean_mse = mse_scores.mean()\n",
        "print(\"Mean MSE:\", mean_mse)"
      ]
    },
    {
      "cell_type": "code",
      "execution_count": 15,
      "metadata": {},
      "outputs": [
        {
          "name": "stdout",
          "output_type": "stream",
          "text": [
            "Today's date: 2024-03-06\n",
            "30 days ago: 2024-02-05\n"
          ]
        }
      ],
      "source": [
        "from datetime import date, timedelta\n",
        "\n",
        "# we will use the last 30 days as our data range\n",
        "today = date.today()\n",
        "print(\"Today's date:\", today)\n",
        "start = today - timedelta(days=30)\n",
        "print(\"30 days ago:\", start)"
      ]
    },
    {
      "cell_type": "code",
      "execution_count": 16,
      "metadata": {},
      "outputs": [
        {
          "data": {
            "text/plain": [
              "200"
            ]
          },
          "execution_count": 16,
          "metadata": {},
          "output_type": "execute_result"
        }
      ],
      "source": [
        "url = f\"https://www.naturalstattrick.com/teamtable.php?fromseason=20232024&thruseason=20232024&stype=2&sit=all&score=all&rate=n&team=all&loc=B&gpf=410&fd={start}&td={today}\"\n",
        "req = requests.get(url)\n",
        "req.status_code"
      ]
    },
    {
      "cell_type": "code",
      "execution_count": 17,
      "metadata": {},
      "outputs": [],
      "source": [
        "df2 = pd.read_html(url, header=0, index_col = 0, na_values=[\"-\"])[0]"
      ]
    },
    {
      "cell_type": "code",
      "execution_count": 18,
      "metadata": {},
      "outputs": [
        {
          "data": {
            "text/plain": [
              "[('Sabres', 'Maple Leafs'), ('Red Wings', 'Avalanche'), ('Senators', 'Ducks')]"
            ]
          },
          "execution_count": 18,
          "metadata": {},
          "output_type": "execute_result"
        }
      ],
      "source": [
        "from get_todays_games import getGames\n",
        "\n",
        "matchups = getGames()\n",
        "matchups\n"
      ]
    },
    {
      "cell_type": "code",
      "execution_count": 19,
      "metadata": {},
      "outputs": [
        {
          "data": {
            "text/html": [
              "<div>\n",
              "<style scoped>\n",
              "    .dataframe tbody tr th:only-of-type {\n",
              "        vertical-align: middle;\n",
              "    }\n",
              "\n",
              "    .dataframe tbody tr th {\n",
              "        vertical-align: top;\n",
              "    }\n",
              "\n",
              "    .dataframe thead th {\n",
              "        text-align: right;\n",
              "    }\n",
              "</style>\n",
              "<table border=\"1\" class=\"dataframe\">\n",
              "  <thead>\n",
              "    <tr style=\"text-align: right;\">\n",
              "      <th></th>\n",
              "      <th>Home Team</th>\n",
              "      <th>Home GP</th>\n",
              "      <th>Home TOI</th>\n",
              "      <th>Home W</th>\n",
              "      <th>Home L</th>\n",
              "      <th>Home OTL</th>\n",
              "      <th>Home ROW</th>\n",
              "      <th>Home Points</th>\n",
              "      <th>Home Point %</th>\n",
              "      <th>Home CF</th>\n",
              "      <th>...</th>\n",
              "      <th>Away LDSA</th>\n",
              "      <th>Away LDSF%</th>\n",
              "      <th>Away LDGF</th>\n",
              "      <th>Away LDGA</th>\n",
              "      <th>Away LDGF%</th>\n",
              "      <th>Away LDSH%</th>\n",
              "      <th>Away LDSV%</th>\n",
              "      <th>Away SH%</th>\n",
              "      <th>Away SV%</th>\n",
              "      <th>Away PDO</th>\n",
              "    </tr>\n",
              "  </thead>\n",
              "  <tbody>\n",
              "    <tr>\n",
              "      <th>0</th>\n",
              "      <td>Toronto Maple Leafs</td>\n",
              "      <td>14</td>\n",
              "      <td>845:54</td>\n",
              "      <td>10</td>\n",
              "      <td>4</td>\n",
              "      <td>0</td>\n",
              "      <td>9</td>\n",
              "      <td>20</td>\n",
              "      <td>0.714</td>\n",
              "      <td>881</td>\n",
              "      <td>...</td>\n",
              "      <td>166</td>\n",
              "      <td>53.50</td>\n",
              "      <td>10</td>\n",
              "      <td>5</td>\n",
              "      <td>66.67</td>\n",
              "      <td>5.24</td>\n",
              "      <td>96.99</td>\n",
              "      <td>8.65</td>\n",
              "      <td>91.42</td>\n",
              "      <td>1.001</td>\n",
              "    </tr>\n",
              "    <tr>\n",
              "      <th>1</th>\n",
              "      <td>Colorado Avalanche</td>\n",
              "      <td>14</td>\n",
              "      <td>845:35</td>\n",
              "      <td>6</td>\n",
              "      <td>6</td>\n",
              "      <td>2</td>\n",
              "      <td>6</td>\n",
              "      <td>14</td>\n",
              "      <td>0.500</td>\n",
              "      <td>856</td>\n",
              "      <td>...</td>\n",
              "      <td>153</td>\n",
              "      <td>46.88</td>\n",
              "      <td>6</td>\n",
              "      <td>4</td>\n",
              "      <td>60.00</td>\n",
              "      <td>4.44</td>\n",
              "      <td>97.39</td>\n",
              "      <td>12.54</td>\n",
              "      <td>90.06</td>\n",
              "      <td>1.026</td>\n",
              "    </tr>\n",
              "    <tr>\n",
              "      <th>2</th>\n",
              "      <td>Anaheim Ducks</td>\n",
              "      <td>11</td>\n",
              "      <td>665:00</td>\n",
              "      <td>4</td>\n",
              "      <td>6</td>\n",
              "      <td>1</td>\n",
              "      <td>4</td>\n",
              "      <td>9</td>\n",
              "      <td>0.409</td>\n",
              "      <td>531</td>\n",
              "      <td>...</td>\n",
              "      <td>152</td>\n",
              "      <td>49.83</td>\n",
              "      <td>2</td>\n",
              "      <td>12</td>\n",
              "      <td>14.29</td>\n",
              "      <td>1.32</td>\n",
              "      <td>92.11</td>\n",
              "      <td>9.78</td>\n",
              "      <td>87.83</td>\n",
              "      <td>0.976</td>\n",
              "    </tr>\n",
              "  </tbody>\n",
              "</table>\n",
              "<p>3 rows × 142 columns</p>\n",
              "</div>"
            ],
            "text/plain": [
              "             Home Team  Home GP Home TOI  Home W  Home L  Home OTL  Home ROW  \\\n",
              "0  Toronto Maple Leafs       14   845:54      10       4         0         9   \n",
              "1   Colorado Avalanche       14   845:35       6       6         2         6   \n",
              "2        Anaheim Ducks       11   665:00       4       6         1         4   \n",
              "\n",
              "   Home Points  Home Point %  Home CF  ...  Away LDSA  Away LDSF%  Away LDGF  \\\n",
              "0           20         0.714      881  ...        166       53.50         10   \n",
              "1           14         0.500      856  ...        153       46.88          6   \n",
              "2            9         0.409      531  ...        152       49.83          2   \n",
              "\n",
              "   Away LDGA  Away LDGF%  Away LDSH%  Away LDSV%  Away SH%  Away SV%  Away PDO  \n",
              "0          5       66.67        5.24       96.99      8.65     91.42     1.001  \n",
              "1          4       60.00        4.44       97.39     12.54     90.06     1.026  \n",
              "2         12       14.29        1.32       92.11      9.78     87.83     0.976  \n",
              "\n",
              "[3 rows x 142 columns]"
            ]
          },
          "execution_count": 19,
          "metadata": {},
          "output_type": "execute_result"
        }
      ],
      "source": [
        "res = pd.DataFrame()\n",
        "\n",
        "for away, home in matchups:\n",
        "    home_df = df2[df2[\"Team\"].str.contains(home)]\n",
        "    home_df = home_df.add_prefix('Home ')\n",
        "    away_df = df2[df2[\"Team\"].str.contains(away)]\n",
        "    away_df = away_df.add_prefix('Away ')\n",
        "    home_df = home_df.reset_index(drop=True)\n",
        "    away_df = away_df.reset_index(drop=True)\n",
        "    matchup_df = pd.merge(home_df, away_df, left_index=True, right_index=True)\n",
        "    res = pd.concat([res, matchup_df], ignore_index=True)\n",
        "    \n",
        "res.head(10)"
      ]
    },
    {
      "cell_type": "code",
      "execution_count": 20,
      "metadata": {},
      "outputs": [],
      "source": [
        "common_cols = [col for col in res.columns.intersection(df.columns)]\n",
        "matchups_df = res[common_cols]\n",
        "final_df = matchups_df.drop([\"Home Team\", \"Away Team\", \"Home GA\", \"Home GF\"], axis=1)"
      ]
    },
    {
      "cell_type": "code",
      "execution_count": 21,
      "metadata": {},
      "outputs": [
        {
          "data": {
            "text/html": [
              "<div>\n",
              "<style scoped>\n",
              "    .dataframe tbody tr th:only-of-type {\n",
              "        vertical-align: middle;\n",
              "    }\n",
              "\n",
              "    .dataframe tbody tr th {\n",
              "        vertical-align: top;\n",
              "    }\n",
              "\n",
              "    .dataframe thead th {\n",
              "        text-align: right;\n",
              "    }\n",
              "</style>\n",
              "<table border=\"1\" class=\"dataframe\">\n",
              "  <thead>\n",
              "    <tr style=\"text-align: right;\">\n",
              "      <th></th>\n",
              "      <th>Home CF%</th>\n",
              "      <th>Home FF%</th>\n",
              "      <th>Home SF%</th>\n",
              "      <th>Home xGF%</th>\n",
              "      <th>Home SCF%</th>\n",
              "      <th>Home HDCF%</th>\n",
              "      <th>Home HDSF%</th>\n",
              "      <th>Home HDGF%</th>\n",
              "      <th>Home HDSH%</th>\n",
              "      <th>Home HDSV%</th>\n",
              "      <th>...</th>\n",
              "      <th>Away MDCF%</th>\n",
              "      <th>Away MDSF%</th>\n",
              "      <th>Away MDGF%</th>\n",
              "      <th>Away MDSH%</th>\n",
              "      <th>Away MDSV%</th>\n",
              "      <th>Away LDCF%</th>\n",
              "      <th>Away LDSF%</th>\n",
              "      <th>Away LDGF%</th>\n",
              "      <th>Away LDSH%</th>\n",
              "      <th>Away LDSV%</th>\n",
              "    </tr>\n",
              "  </thead>\n",
              "  <tbody>\n",
              "    <tr>\n",
              "      <th>0</th>\n",
              "      <td>0.4989</td>\n",
              "      <td>0.5186</td>\n",
              "      <td>0.5386</td>\n",
              "      <td>0.5359</td>\n",
              "      <td>0.5099</td>\n",
              "      <td>0.5480</td>\n",
              "      <td>0.5495</td>\n",
              "      <td>0.5400</td>\n",
              "      <td>0.2213</td>\n",
              "      <td>0.7700</td>\n",
              "      <td>...</td>\n",
              "      <td>0.5222</td>\n",
              "      <td>0.5512</td>\n",
              "      <td>0.6111</td>\n",
              "      <td>0.0973</td>\n",
              "      <td>0.9239</td>\n",
              "      <td>0.5238</td>\n",
              "      <td>0.5350</td>\n",
              "      <td>0.6667</td>\n",
              "      <td>0.0524</td>\n",
              "      <td>0.9699</td>\n",
              "    </tr>\n",
              "    <tr>\n",
              "      <th>1</th>\n",
              "      <td>0.4968</td>\n",
              "      <td>0.4976</td>\n",
              "      <td>0.5034</td>\n",
              "      <td>0.4713</td>\n",
              "      <td>0.5101</td>\n",
              "      <td>0.5042</td>\n",
              "      <td>0.5060</td>\n",
              "      <td>0.5000</td>\n",
              "      <td>0.1508</td>\n",
              "      <td>0.8455</td>\n",
              "      <td>...</td>\n",
              "      <td>0.4900</td>\n",
              "      <td>0.5060</td>\n",
              "      <td>0.6000</td>\n",
              "      <td>0.1765</td>\n",
              "      <td>0.8795</td>\n",
              "      <td>0.4969</td>\n",
              "      <td>0.4688</td>\n",
              "      <td>0.6000</td>\n",
              "      <td>0.0444</td>\n",
              "      <td>0.9739</td>\n",
              "    </tr>\n",
              "    <tr>\n",
              "      <th>2</th>\n",
              "      <td>0.4148</td>\n",
              "      <td>0.4004</td>\n",
              "      <td>0.3907</td>\n",
              "      <td>0.3529</td>\n",
              "      <td>0.4080</td>\n",
              "      <td>0.3415</td>\n",
              "      <td>0.3439</td>\n",
              "      <td>0.3902</td>\n",
              "      <td>0.2963</td>\n",
              "      <td>0.7573</td>\n",
              "      <td>...</td>\n",
              "      <td>0.4976</td>\n",
              "      <td>0.5475</td>\n",
              "      <td>0.6000</td>\n",
              "      <td>0.1531</td>\n",
              "      <td>0.8765</td>\n",
              "      <td>0.5011</td>\n",
              "      <td>0.4983</td>\n",
              "      <td>0.1429</td>\n",
              "      <td>0.0132</td>\n",
              "      <td>0.9211</td>\n",
              "    </tr>\n",
              "  </tbody>\n",
              "</table>\n",
              "<p>3 rows × 40 columns</p>\n",
              "</div>"
            ],
            "text/plain": [
              "   Home CF%  Home FF%  Home SF%  Home xGF%  Home SCF%  Home HDCF%  Home HDSF%  \\\n",
              "0    0.4989    0.5186    0.5386     0.5359     0.5099      0.5480      0.5495   \n",
              "1    0.4968    0.4976    0.5034     0.4713     0.5101      0.5042      0.5060   \n",
              "2    0.4148    0.4004    0.3907     0.3529     0.4080      0.3415      0.3439   \n",
              "\n",
              "   Home HDGF%  Home HDSH%  Home HDSV%  ...  Away MDCF%  Away MDSF%  \\\n",
              "0      0.5400      0.2213      0.7700  ...      0.5222      0.5512   \n",
              "1      0.5000      0.1508      0.8455  ...      0.4900      0.5060   \n",
              "2      0.3902      0.2963      0.7573  ...      0.4976      0.5475   \n",
              "\n",
              "   Away MDGF%  Away MDSH%  Away MDSV%  Away LDCF%  Away LDSF%  Away LDGF%  \\\n",
              "0      0.6111      0.0973      0.9239      0.5238      0.5350      0.6667   \n",
              "1      0.6000      0.1765      0.8795      0.4969      0.4688      0.6000   \n",
              "2      0.6000      0.1531      0.8765      0.5011      0.4983      0.1429   \n",
              "\n",
              "   Away LDSH%  Away LDSV%  \n",
              "0      0.0524      0.9699  \n",
              "1      0.0444      0.9739  \n",
              "2      0.0132      0.9211  \n",
              "\n",
              "[3 rows x 40 columns]"
            ]
          },
          "execution_count": 21,
          "metadata": {},
          "output_type": "execute_result"
        }
      ],
      "source": [
        "# Convert percentage values to decimal form\n",
        "for col in final_df:\n",
        "    final_df[col] = final_df[col] / 100.0\n",
        "final_df.head(10)"
      ]
    },
    {
      "cell_type": "code",
      "execution_count": 22,
      "metadata": {},
      "outputs": [],
      "source": [
        "predictions = model.predict(final_df)"
      ]
    },
    {
      "cell_type": "code",
      "execution_count": 23,
      "metadata": {},
      "outputs": [],
      "source": [
        "predictions_df = pd.DataFrame(predictions, columns=[\"X Home Goals\", \"X Away Goals\"])\n",
        "predictions_df = pd.concat([matchups_df[[\"Home Team\", \"Away Team\"]], predictions_df], axis=1)"
      ]
    },
    {
      "cell_type": "code",
      "execution_count": 24,
      "metadata": {},
      "outputs": [],
      "source": [
        "predictions_df = predictions_df.reindex(['Date', *predictions_df.columns], axis=1).assign(Date=today)"
      ]
    },
    {
      "cell_type": "code",
      "execution_count": 25,
      "metadata": {},
      "outputs": [],
      "source": [
        "predictions_df[\"X Home Spread\"] = round(predictions_df[\"X Home Goals\"]-predictions_df[\"X Away Goals\"], 2)"
      ]
    },
    {
      "cell_type": "code",
      "execution_count": 26,
      "metadata": {},
      "outputs": [],
      "source": [
        "predictions_df['X Winner'] = predictions_df.apply(lambda row: row['Home Team'] if row['X Home Goals'] > row['X Away Goals'] else row['Away Team'] if row['X Away Goals'] > row['X Home Goals'] else 'Draw', axis=1)"
      ]
    },
    {
      "cell_type": "code",
      "execution_count": 27,
      "metadata": {},
      "outputs": [
        {
          "data": {
            "text/html": [
              "<div>\n",
              "<style scoped>\n",
              "    .dataframe tbody tr th:only-of-type {\n",
              "        vertical-align: middle;\n",
              "    }\n",
              "\n",
              "    .dataframe tbody tr th {\n",
              "        vertical-align: top;\n",
              "    }\n",
              "\n",
              "    .dataframe thead th {\n",
              "        text-align: right;\n",
              "    }\n",
              "</style>\n",
              "<table border=\"1\" class=\"dataframe\">\n",
              "  <thead>\n",
              "    <tr style=\"text-align: right;\">\n",
              "      <th></th>\n",
              "      <th>Date</th>\n",
              "      <th>Home Team</th>\n",
              "      <th>Away Team</th>\n",
              "      <th>X Home Goals</th>\n",
              "      <th>X Away Goals</th>\n",
              "      <th>X Home Spread</th>\n",
              "      <th>X Winner</th>\n",
              "    </tr>\n",
              "  </thead>\n",
              "  <tbody>\n",
              "    <tr>\n",
              "      <th>0</th>\n",
              "      <td>2024-03-06</td>\n",
              "      <td>Toronto Maple Leafs</td>\n",
              "      <td>Buffalo Sabres</td>\n",
              "      <td>3.80</td>\n",
              "      <td>3.26</td>\n",
              "      <td>0.54</td>\n",
              "      <td>Toronto Maple Leafs</td>\n",
              "    </tr>\n",
              "    <tr>\n",
              "      <th>1</th>\n",
              "      <td>2024-03-06</td>\n",
              "      <td>Colorado Avalanche</td>\n",
              "      <td>Detroit Red Wings</td>\n",
              "      <td>3.24</td>\n",
              "      <td>3.49</td>\n",
              "      <td>-0.25</td>\n",
              "      <td>Detroit Red Wings</td>\n",
              "    </tr>\n",
              "    <tr>\n",
              "      <th>2</th>\n",
              "      <td>2024-03-06</td>\n",
              "      <td>Anaheim Ducks</td>\n",
              "      <td>Ottawa Senators</td>\n",
              "      <td>4.14</td>\n",
              "      <td>4.04</td>\n",
              "      <td>0.10</td>\n",
              "      <td>Anaheim Ducks</td>\n",
              "    </tr>\n",
              "  </tbody>\n",
              "</table>\n",
              "</div>"
            ],
            "text/plain": [
              "         Date            Home Team          Away Team  X Home Goals  \\\n",
              "0  2024-03-06  Toronto Maple Leafs     Buffalo Sabres          3.80   \n",
              "1  2024-03-06   Colorado Avalanche  Detroit Red Wings          3.24   \n",
              "2  2024-03-06        Anaheim Ducks    Ottawa Senators          4.14   \n",
              "\n",
              "   X Away Goals  X Home Spread             X Winner  \n",
              "0          3.26           0.54  Toronto Maple Leafs  \n",
              "1          3.49          -0.25    Detroit Red Wings  \n",
              "2          4.04           0.10        Anaheim Ducks  "
            ]
          },
          "execution_count": 27,
          "metadata": {},
          "output_type": "execute_result"
        }
      ],
      "source": [
        "predictions_df"
      ]
    },
    {
      "cell_type": "code",
      "execution_count": 28,
      "metadata": {},
      "outputs": [],
      "source": [
        "# Write today's predictions to csv\n",
        "f = open(\"predictions.csv\", 'w')\n",
        "\n",
        "for i, col in enumerate(predictions_df.columns.values):\n",
        "    f.write(col)\n",
        "    if i != len(predictions_df.columns.values) - 1:\n",
        "        f.write(\",\")\n",
        "\n",
        "f.write(\"\\n\")\n",
        "\n",
        "for col in predictions_df.values:\n",
        "    for i, row in enumerate(col):\n",
        "        f.write(str(row))\n",
        "        if i != len(col) - 1:\n",
        "            f.write(\",\")\n",
        "    f.write(\"\\n\")\n",
        "\n",
        "f.close()"
      ]
    },
    {
      "cell_type": "code",
      "execution_count": null,
      "metadata": {},
      "outputs": [],
      "source": []
    }
  ],
  "metadata": {
    "colab": {
      "include_colab_link": true,
      "provenance": []
    },
    "kernelspec": {
      "display_name": "Python 3",
      "name": "python3"
    },
    "language_info": {
      "codemirror_mode": {
        "name": "ipython",
        "version": 3
      },
      "file_extension": ".py",
      "mimetype": "text/x-python",
      "name": "python",
      "nbconvert_exporter": "python",
      "pygments_lexer": "ipython3",
      "version": "3.10.5"
    }
  },
  "nbformat": 4,
  "nbformat_minor": 0
}
