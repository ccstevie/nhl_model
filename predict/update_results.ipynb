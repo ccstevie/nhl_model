{
 "cells": [
  {
   "cell_type": "code",
   "execution_count": 2,
   "metadata": {},
   "outputs": [],
   "source": [
    "from get_results import getResults\n",
    "from datetime import date, timedelta\n",
    "import pandas as pd"
   ]
  },
  {
   "cell_type": "code",
   "execution_count": 3,
   "metadata": {},
   "outputs": [],
   "source": [
    "df = pd.read_csv('predictions.csv')"
   ]
  },
  {
   "cell_type": "code",
   "execution_count": 4,
   "metadata": {},
   "outputs": [
    {
     "data": {
      "text/html": [
       "<div>\n",
       "<style scoped>\n",
       "    .dataframe tbody tr th:only-of-type {\n",
       "        vertical-align: middle;\n",
       "    }\n",
       "\n",
       "    .dataframe tbody tr th {\n",
       "        vertical-align: top;\n",
       "    }\n",
       "\n",
       "    .dataframe thead th {\n",
       "        text-align: right;\n",
       "    }\n",
       "</style>\n",
       "<table border=\"1\" class=\"dataframe\">\n",
       "  <thead>\n",
       "    <tr style=\"text-align: right;\">\n",
       "      <th></th>\n",
       "      <th>Date</th>\n",
       "      <th>Home Team</th>\n",
       "      <th>Away Team</th>\n",
       "      <th>X Home Goals</th>\n",
       "      <th>X Away Goals</th>\n",
       "      <th>X Home Spread</th>\n",
       "      <th>X Winner</th>\n",
       "    </tr>\n",
       "  </thead>\n",
       "  <tbody>\n",
       "    <tr>\n",
       "      <th>0</th>\n",
       "      <td>2024-03-06</td>\n",
       "      <td>Toronto Maple Leafs</td>\n",
       "      <td>Buffalo Sabres</td>\n",
       "      <td>3.80</td>\n",
       "      <td>3.26</td>\n",
       "      <td>0.54</td>\n",
       "      <td>Toronto Maple Leafs</td>\n",
       "    </tr>\n",
       "    <tr>\n",
       "      <th>1</th>\n",
       "      <td>2024-03-06</td>\n",
       "      <td>Colorado Avalanche</td>\n",
       "      <td>Detroit Red Wings</td>\n",
       "      <td>3.24</td>\n",
       "      <td>3.49</td>\n",
       "      <td>-0.25</td>\n",
       "      <td>Detroit Red Wings</td>\n",
       "    </tr>\n",
       "    <tr>\n",
       "      <th>2</th>\n",
       "      <td>2024-03-06</td>\n",
       "      <td>Anaheim Ducks</td>\n",
       "      <td>Ottawa Senators</td>\n",
       "      <td>4.14</td>\n",
       "      <td>4.04</td>\n",
       "      <td>0.10</td>\n",
       "      <td>Anaheim Ducks</td>\n",
       "    </tr>\n",
       "  </tbody>\n",
       "</table>\n",
       "</div>"
      ],
      "text/plain": [
       "         Date            Home Team          Away Team  X Home Goals  \\\n",
       "0  2024-03-06  Toronto Maple Leafs     Buffalo Sabres          3.80   \n",
       "1  2024-03-06   Colorado Avalanche  Detroit Red Wings          3.24   \n",
       "2  2024-03-06        Anaheim Ducks    Ottawa Senators          4.14   \n",
       "\n",
       "   X Away Goals  X Home Spread             X Winner  \n",
       "0          3.26           0.54  Toronto Maple Leafs  \n",
       "1          3.49          -0.25    Detroit Red Wings  \n",
       "2          4.04           0.10        Anaheim Ducks  "
      ]
     },
     "execution_count": 4,
     "metadata": {},
     "output_type": "execute_result"
    }
   ],
   "source": [
    "df"
   ]
  },
  {
   "cell_type": "code",
   "execution_count": 5,
   "metadata": {},
   "outputs": [],
   "source": [
    "ystd = str(date.today() - timedelta(days=1))\n",
    "ystd = ''.join(ystd.split('-'))\n",
    "scoresDF = getResults(ystd)"
   ]
  },
  {
   "cell_type": "code",
   "execution_count": 6,
   "metadata": {},
   "outputs": [
    {
     "data": {
      "text/html": [
       "<div>\n",
       "<style scoped>\n",
       "    .dataframe tbody tr th:only-of-type {\n",
       "        vertical-align: middle;\n",
       "    }\n",
       "\n",
       "    .dataframe tbody tr th {\n",
       "        vertical-align: top;\n",
       "    }\n",
       "\n",
       "    .dataframe thead th {\n",
       "        text-align: right;\n",
       "    }\n",
       "</style>\n",
       "<table border=\"1\" class=\"dataframe\">\n",
       "  <thead>\n",
       "    <tr style=\"text-align: right;\">\n",
       "      <th></th>\n",
       "      <th>Date</th>\n",
       "      <th>Home Team</th>\n",
       "      <th>Away Team</th>\n",
       "      <th>Home Goals</th>\n",
       "      <th>Away Goals</th>\n",
       "      <th>Winner</th>\n",
       "    </tr>\n",
       "  </thead>\n",
       "  <tbody>\n",
       "    <tr>\n",
       "      <th>0</th>\n",
       "      <td>2024-03-05</td>\n",
       "      <td>Devils</td>\n",
       "      <td>Panthers</td>\n",
       "      <td>3</td>\n",
       "      <td>5</td>\n",
       "      <td>Panthers</td>\n",
       "    </tr>\n",
       "    <tr>\n",
       "      <th>1</th>\n",
       "      <td>2024-03-05</td>\n",
       "      <td>Penguins</td>\n",
       "      <td>Blue Jackets</td>\n",
       "      <td>5</td>\n",
       "      <td>3</td>\n",
       "      <td>Penguins</td>\n",
       "    </tr>\n",
       "    <tr>\n",
       "      <th>2</th>\n",
       "      <td>2024-03-05</td>\n",
       "      <td>Bruins</td>\n",
       "      <td>Oilers</td>\n",
       "      <td>1</td>\n",
       "      <td>2</td>\n",
       "      <td>Oilers</td>\n",
       "    </tr>\n",
       "    <tr>\n",
       "      <th>3</th>\n",
       "      <td>2024-03-05</td>\n",
       "      <td>Islanders</td>\n",
       "      <td>Blues</td>\n",
       "      <td>4</td>\n",
       "      <td>2</td>\n",
       "      <td>Islanders</td>\n",
       "    </tr>\n",
       "    <tr>\n",
       "      <th>4</th>\n",
       "      <td>2024-03-05</td>\n",
       "      <td>Predators</td>\n",
       "      <td>Canadiens</td>\n",
       "      <td>3</td>\n",
       "      <td>4</td>\n",
       "      <td>Canadiens</td>\n",
       "    </tr>\n",
       "    <tr>\n",
       "      <th>5</th>\n",
       "      <td>2024-03-05</td>\n",
       "      <td>Jets</td>\n",
       "      <td>Kraken</td>\n",
       "      <td>3</td>\n",
       "      <td>4</td>\n",
       "      <td>Kraken</td>\n",
       "    </tr>\n",
       "    <tr>\n",
       "      <th>6</th>\n",
       "      <td>2024-03-05</td>\n",
       "      <td>Coyotes</td>\n",
       "      <td>Blackhawks</td>\n",
       "      <td>2</td>\n",
       "      <td>5</td>\n",
       "      <td>Blackhawks</td>\n",
       "    </tr>\n",
       "    <tr>\n",
       "      <th>7</th>\n",
       "      <td>2024-03-05</td>\n",
       "      <td>Kings</td>\n",
       "      <td>Canucks</td>\n",
       "      <td>1</td>\n",
       "      <td>2</td>\n",
       "      <td>Canucks</td>\n",
       "    </tr>\n",
       "    <tr>\n",
       "      <th>8</th>\n",
       "      <td>2024-03-05</td>\n",
       "      <td>Sharks</td>\n",
       "      <td>Stars</td>\n",
       "      <td>6</td>\n",
       "      <td>7</td>\n",
       "      <td>Stars</td>\n",
       "    </tr>\n",
       "  </tbody>\n",
       "</table>\n",
       "</div>"
      ],
      "text/plain": [
       "         Date  Home Team     Away Team Home Goals Away Goals      Winner\n",
       "0  2024-03-05     Devils      Panthers          3          5    Panthers\n",
       "1  2024-03-05   Penguins  Blue Jackets          5          3    Penguins\n",
       "2  2024-03-05     Bruins        Oilers          1          2      Oilers\n",
       "3  2024-03-05  Islanders         Blues          4          2   Islanders\n",
       "4  2024-03-05  Predators     Canadiens          3          4   Canadiens\n",
       "5  2024-03-05       Jets        Kraken          3          4      Kraken\n",
       "6  2024-03-05    Coyotes    Blackhawks          2          5  Blackhawks\n",
       "7  2024-03-05      Kings       Canucks          1          2     Canucks\n",
       "8  2024-03-05     Sharks         Stars          6          7       Stars"
      ]
     },
     "execution_count": 6,
     "metadata": {},
     "output_type": "execute_result"
    }
   ],
   "source": [
    "scoresDF"
   ]
  },
  {
   "cell_type": "code",
   "execution_count": 7,
   "metadata": {},
   "outputs": [
    {
     "data": {
      "text/plain": [
       "[]"
      ]
     },
     "execution_count": 7,
     "metadata": {},
     "output_type": "execute_result"
    }
   ],
   "source": [
    "# Initialize an empty list to store the matched rows\n",
    "matched_rows = []\n",
    "\n",
    "# Iterate over the rows of results\n",
    "for index, row in scoresDF.iterrows():\n",
    "    # to filter by\n",
    "    date_value = str(row['Date'])\n",
    "    partial_string = row['Home Team']\n",
    "    # to include in result\n",
    "    home_goals = row['Home Goals']\n",
    "    away_goals = row['Away Goals']\n",
    "    winner = row['Winner']\n",
    "\n",
    "    matched_df_rows = df[(df['Date'] == date_value) & (df['Home Team'].str.contains(partial_string))]\n",
    "    # If there are matches, add them to the list\n",
    "    if not matched_df_rows.empty:\n",
    "        for _, matched_row in matched_df_rows.iterrows():\n",
    "            # Add the matched row from df1 and the corresponding row from df2 to the list\n",
    "            matched_rows.append(matched_row.tolist() + [home_goals, away_goals, winner])\n",
    "\n",
    "matched_rows"
   ]
  },
  {
   "cell_type": "code",
   "execution_count": 8,
   "metadata": {},
   "outputs": [
    {
     "data": {
      "text/html": [
       "<div>\n",
       "<style scoped>\n",
       "    .dataframe tbody tr th:only-of-type {\n",
       "        vertical-align: middle;\n",
       "    }\n",
       "\n",
       "    .dataframe tbody tr th {\n",
       "        vertical-align: top;\n",
       "    }\n",
       "\n",
       "    .dataframe thead th {\n",
       "        text-align: right;\n",
       "    }\n",
       "</style>\n",
       "<table border=\"1\" class=\"dataframe\">\n",
       "  <thead>\n",
       "    <tr style=\"text-align: right;\">\n",
       "      <th></th>\n",
       "      <th>Date</th>\n",
       "      <th>Home Team</th>\n",
       "      <th>Away Team</th>\n",
       "      <th>X Home Goals</th>\n",
       "      <th>X Away Goals</th>\n",
       "      <th>X Home Spread</th>\n",
       "      <th>X Winner</th>\n",
       "      <th>Home Goals</th>\n",
       "      <th>Away Goals</th>\n",
       "      <th>Winner</th>\n",
       "    </tr>\n",
       "  </thead>\n",
       "  <tbody>\n",
       "  </tbody>\n",
       "</table>\n",
       "</div>"
      ],
      "text/plain": [
       "Empty DataFrame\n",
       "Columns: [Date, Home Team, Away Team, X Home Goals, X Away Goals, X Home Spread, X Winner, Home Goals, Away Goals, Winner]\n",
       "Index: []"
      ]
     },
     "execution_count": 8,
     "metadata": {},
     "output_type": "execute_result"
    }
   ],
   "source": [
    "# Create a DataFrame from the matched rows\n",
    "merged_df = pd.DataFrame(matched_rows, columns=list(df.columns) + ['Home Goals', 'Away Goals', 'Winner'])\n",
    "merged_df"
   ]
  },
  {
   "cell_type": "code",
   "execution_count": 9,
   "metadata": {},
   "outputs": [],
   "source": [
    "# Write today's predictions to csv\n",
    "f = open(\"record.csv\", 'a')\n",
    "\n",
    "for col in merged_df.values:\n",
    "    for i, row in enumerate(col):\n",
    "        f.write(str(row))\n",
    "        if i != len(col) - 1:\n",
    "            f.write(\",\")\n",
    "    f.write(\"\\n\")\n",
    "\n",
    "f.close()"
   ]
  },
  {
   "cell_type": "code",
   "execution_count": null,
   "metadata": {},
   "outputs": [],
   "source": []
  }
 ],
 "metadata": {
  "kernelspec": {
   "display_name": "Python 3",
   "language": "python",
   "name": "python3"
  },
  "language_info": {
   "codemirror_mode": {
    "name": "ipython",
    "version": 3
   },
   "file_extension": ".py",
   "mimetype": "text/x-python",
   "name": "python",
   "nbconvert_exporter": "python",
   "pygments_lexer": "ipython3",
   "version": "3.10.5"
  }
 },
 "nbformat": 4,
 "nbformat_minor": 2
}
