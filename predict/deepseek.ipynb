{
 "cells": [
  {
   "cell_type": "code",
   "execution_count": 221,
   "metadata": {},
   "outputs": [],
   "source": [
    "import pandas as pd\n",
    "from sklearn.model_selection import train_test_split\n",
    "from sklearn.metrics import mean_absolute_error\n",
    "from sklearn.ensemble import RandomForestRegressor\n",
    "from sklearn.model_selection import GridSearchCV"
   ]
  },
  {
   "cell_type": "code",
   "execution_count": 222,
   "metadata": {},
   "outputs": [],
   "source": [
    "home_data = pd.read_csv('home_games.csv')\n",
    "away_data = pd.read_csv('away_games.csv')"
   ]
  },
  {
   "cell_type": "code",
   "execution_count": 223,
   "metadata": {},
   "outputs": [],
   "source": [
    "# Drop unused columns\n",
    "home_data.drop(columns=[\"Unnamed: 2\", \"TOI\", \"CF%\", \"FF%\", \"SF%\", \"GF%\", \"xGF%\", \n",
    "                        \"SCF%\", \"HDCF%\", \"HDGF\", \"HDGA\", \"HDGF%\", \"HDSH%\", \"SH%\", \"HDSV%\", \"SV%\", \"PDO\"], inplace=True)\n",
    "away_data.drop(columns=[\"Unnamed: 2\", \"TOI\", \"CF%\", \"FF%\", \"SF%\", \"GF%\", \"xGF%\",\n",
    "                        \"SCF%\", \"HDCF%\", \"HDGF\", \"HDGA\", \"HDGF%\", \"HDSH%\", \"SH%\", \"HDSV%\", \"SV%\", \"PDO\"], inplace=True)"
   ]
  },
  {
   "cell_type": "code",
   "execution_count": 224,
   "metadata": {},
   "outputs": [],
   "source": [
    "# Merge datasets, each row represents 1 game with advanced stats for both teams\n",
    "merged_data = pd.merge(home_data, away_data, on='Game', suffixes=('_home', '_away'))"
   ]
  },
  {
   "cell_type": "code",
   "execution_count": 225,
   "metadata": {},
   "outputs": [
    {
     "data": {
      "text/plain": [
       "Index(['Game', 'Team_home', 'CF_home', 'CA_home', 'FF_home', 'FA_home',\n",
       "       'SF_home', 'SA_home', 'GF_home', 'GA_home', 'xGF_home', 'xGA_home',\n",
       "       'SCF_home', 'SCA_home', 'HDCF_home', 'HDCA_home', 'Team_away',\n",
       "       'CF_away', 'CA_away', 'FF_away', 'FA_away', 'SF_away', 'SA_away',\n",
       "       'GF_away', 'GA_away', 'xGF_away', 'xGA_away', 'SCF_away', 'SCA_away',\n",
       "       'HDCF_away', 'HDCA_away'],\n",
       "      dtype='object')"
      ]
     },
     "execution_count": 225,
     "metadata": {},
     "output_type": "execute_result"
    }
   ],
   "source": [
    "merged_data.columns"
   ]
  },
  {
   "cell_type": "code",
   "execution_count": 226,
   "metadata": {},
   "outputs": [],
   "source": [
    "# Drop NA\n",
    "merged_data.replace('-', pd.NA, inplace=True)\n",
    "merged_data.dropna(inplace=True)"
   ]
  },
  {
   "cell_type": "code",
   "execution_count": 227,
   "metadata": {},
   "outputs": [],
   "source": [
    "# Convert \"Game\" column to Date\n",
    "merged_data[\"Game\"] = merged_data[\"Game\"].str.split(\" - \").str[0]\n",
    "merged_data.rename(columns={'Game': 'Date'}, inplace=True)\n",
    "# Convert 'Date' column from string to datetime\n",
    "merged_data['Date'] = pd.to_datetime(merged_data['Date'])"
   ]
  },
  {
   "cell_type": "code",
   "execution_count": 228,
   "metadata": {},
   "outputs": [
    {
     "data": {
      "text/html": [
       "<div>\n",
       "<style scoped>\n",
       "    .dataframe tbody tr th:only-of-type {\n",
       "        vertical-align: middle;\n",
       "    }\n",
       "\n",
       "    .dataframe tbody tr th {\n",
       "        vertical-align: top;\n",
       "    }\n",
       "\n",
       "    .dataframe thead th {\n",
       "        text-align: right;\n",
       "    }\n",
       "</style>\n",
       "<table border=\"1\" class=\"dataframe\">\n",
       "  <thead>\n",
       "    <tr style=\"text-align: right;\">\n",
       "      <th></th>\n",
       "      <th>Date</th>\n",
       "      <th>Team_home</th>\n",
       "      <th>CF_home</th>\n",
       "      <th>CA_home</th>\n",
       "      <th>FF_home</th>\n",
       "      <th>FA_home</th>\n",
       "      <th>SF_home</th>\n",
       "      <th>SA_home</th>\n",
       "      <th>GF_home</th>\n",
       "      <th>GA_home</th>\n",
       "      <th>...</th>\n",
       "      <th>SF_away</th>\n",
       "      <th>SA_away</th>\n",
       "      <th>GF_away</th>\n",
       "      <th>GA_away</th>\n",
       "      <th>xGF_away</th>\n",
       "      <th>xGA_away</th>\n",
       "      <th>SCF_away</th>\n",
       "      <th>SCA_away</th>\n",
       "      <th>HDCF_away</th>\n",
       "      <th>HDCA_away</th>\n",
       "    </tr>\n",
       "  </thead>\n",
       "  <tbody>\n",
       "    <tr>\n",
       "      <th>0</th>\n",
       "      <td>2013-10-01</td>\n",
       "      <td>Montreal Canadiens</td>\n",
       "      <td>56</td>\n",
       "      <td>39</td>\n",
       "      <td>44</td>\n",
       "      <td>26</td>\n",
       "      <td>29</td>\n",
       "      <td>19</td>\n",
       "      <td>2</td>\n",
       "      <td>2</td>\n",
       "      <td>...</td>\n",
       "      <td>19</td>\n",
       "      <td>29</td>\n",
       "      <td>2</td>\n",
       "      <td>2</td>\n",
       "      <td>1.43</td>\n",
       "      <td>2.42</td>\n",
       "      <td>16</td>\n",
       "      <td>22</td>\n",
       "      <td>4</td>\n",
       "      <td>13</td>\n",
       "    </tr>\n",
       "    <tr>\n",
       "      <th>1</th>\n",
       "      <td>2013-10-01</td>\n",
       "      <td>Chicago Blackhawks</td>\n",
       "      <td>42</td>\n",
       "      <td>34</td>\n",
       "      <td>30</td>\n",
       "      <td>21</td>\n",
       "      <td>25</td>\n",
       "      <td>16</td>\n",
       "      <td>4</td>\n",
       "      <td>1</td>\n",
       "      <td>...</td>\n",
       "      <td>16</td>\n",
       "      <td>25</td>\n",
       "      <td>1</td>\n",
       "      <td>4</td>\n",
       "      <td>1.07</td>\n",
       "      <td>1.44</td>\n",
       "      <td>15</td>\n",
       "      <td>20</td>\n",
       "      <td>2</td>\n",
       "      <td>8</td>\n",
       "    </tr>\n",
       "    <tr>\n",
       "      <th>2</th>\n",
       "      <td>2013-10-01</td>\n",
       "      <td>Edmonton Oilers</td>\n",
       "      <td>48</td>\n",
       "      <td>39</td>\n",
       "      <td>30</td>\n",
       "      <td>31</td>\n",
       "      <td>23</td>\n",
       "      <td>21</td>\n",
       "      <td>2</td>\n",
       "      <td>4</td>\n",
       "      <td>...</td>\n",
       "      <td>21</td>\n",
       "      <td>23</td>\n",
       "      <td>4</td>\n",
       "      <td>2</td>\n",
       "      <td>2.64</td>\n",
       "      <td>1.54</td>\n",
       "      <td>24</td>\n",
       "      <td>22</td>\n",
       "      <td>13</td>\n",
       "      <td>6</td>\n",
       "    </tr>\n",
       "    <tr>\n",
       "      <th>3</th>\n",
       "      <td>2013-10-02</td>\n",
       "      <td>Philadelphia Flyers</td>\n",
       "      <td>44</td>\n",
       "      <td>33</td>\n",
       "      <td>29</td>\n",
       "      <td>26</td>\n",
       "      <td>17</td>\n",
       "      <td>21</td>\n",
       "      <td>0</td>\n",
       "      <td>2</td>\n",
       "      <td>...</td>\n",
       "      <td>21</td>\n",
       "      <td>17</td>\n",
       "      <td>2</td>\n",
       "      <td>0</td>\n",
       "      <td>1.16</td>\n",
       "      <td>1.56</td>\n",
       "      <td>14</td>\n",
       "      <td>20</td>\n",
       "      <td>5</td>\n",
       "      <td>8</td>\n",
       "    </tr>\n",
       "    <tr>\n",
       "      <th>4</th>\n",
       "      <td>2013-10-02</td>\n",
       "      <td>Detroit Red Wings</td>\n",
       "      <td>43</td>\n",
       "      <td>20</td>\n",
       "      <td>36</td>\n",
       "      <td>14</td>\n",
       "      <td>27</td>\n",
       "      <td>11</td>\n",
       "      <td>2</td>\n",
       "      <td>1</td>\n",
       "      <td>...</td>\n",
       "      <td>11</td>\n",
       "      <td>27</td>\n",
       "      <td>1</td>\n",
       "      <td>2</td>\n",
       "      <td>0.80</td>\n",
       "      <td>1.39</td>\n",
       "      <td>9</td>\n",
       "      <td>19</td>\n",
       "      <td>3</td>\n",
       "      <td>5</td>\n",
       "    </tr>\n",
       "    <tr>\n",
       "      <th>...</th>\n",
       "      <td>...</td>\n",
       "      <td>...</td>\n",
       "      <td>...</td>\n",
       "      <td>...</td>\n",
       "      <td>...</td>\n",
       "      <td>...</td>\n",
       "      <td>...</td>\n",
       "      <td>...</td>\n",
       "      <td>...</td>\n",
       "      <td>...</td>\n",
       "      <td>...</td>\n",
       "      <td>...</td>\n",
       "      <td>...</td>\n",
       "      <td>...</td>\n",
       "      <td>...</td>\n",
       "      <td>...</td>\n",
       "      <td>...</td>\n",
       "      <td>...</td>\n",
       "      <td>...</td>\n",
       "      <td>...</td>\n",
       "      <td>...</td>\n",
       "    </tr>\n",
       "    <tr>\n",
       "      <th>13124</th>\n",
       "      <td>2024-03-19</td>\n",
       "      <td>Edmonton Oilers</td>\n",
       "      <td>37</td>\n",
       "      <td>49</td>\n",
       "      <td>20</td>\n",
       "      <td>32</td>\n",
       "      <td>17</td>\n",
       "      <td>20</td>\n",
       "      <td>2</td>\n",
       "      <td>1</td>\n",
       "      <td>...</td>\n",
       "      <td>20</td>\n",
       "      <td>17</td>\n",
       "      <td>1</td>\n",
       "      <td>2</td>\n",
       "      <td>1.88</td>\n",
       "      <td>1.43</td>\n",
       "      <td>20</td>\n",
       "      <td>16</td>\n",
       "      <td>7</td>\n",
       "      <td>7</td>\n",
       "    </tr>\n",
       "    <tr>\n",
       "      <th>13125</th>\n",
       "      <td>2024-03-19</td>\n",
       "      <td>Anaheim Ducks</td>\n",
       "      <td>36</td>\n",
       "      <td>33</td>\n",
       "      <td>27</td>\n",
       "      <td>26</td>\n",
       "      <td>21</td>\n",
       "      <td>19</td>\n",
       "      <td>0</td>\n",
       "      <td>3</td>\n",
       "      <td>...</td>\n",
       "      <td>19</td>\n",
       "      <td>21</td>\n",
       "      <td>3</td>\n",
       "      <td>0</td>\n",
       "      <td>1.28</td>\n",
       "      <td>1.33</td>\n",
       "      <td>15</td>\n",
       "      <td>10</td>\n",
       "      <td>3</td>\n",
       "      <td>6</td>\n",
       "    </tr>\n",
       "    <tr>\n",
       "      <th>13126</th>\n",
       "      <td>2024-03-19</td>\n",
       "      <td>Los Angeles Kings</td>\n",
       "      <td>42</td>\n",
       "      <td>51</td>\n",
       "      <td>32</td>\n",
       "      <td>32</td>\n",
       "      <td>23</td>\n",
       "      <td>18</td>\n",
       "      <td>5</td>\n",
       "      <td>1</td>\n",
       "      <td>...</td>\n",
       "      <td>18</td>\n",
       "      <td>23</td>\n",
       "      <td>1</td>\n",
       "      <td>5</td>\n",
       "      <td>1.29</td>\n",
       "      <td>2.36</td>\n",
       "      <td>22</td>\n",
       "      <td>22</td>\n",
       "      <td>6</td>\n",
       "      <td>13</td>\n",
       "    </tr>\n",
       "    <tr>\n",
       "      <th>13127</th>\n",
       "      <td>2024-03-19</td>\n",
       "      <td>Vancouver Canucks</td>\n",
       "      <td>41</td>\n",
       "      <td>40</td>\n",
       "      <td>30</td>\n",
       "      <td>22</td>\n",
       "      <td>20</td>\n",
       "      <td>11</td>\n",
       "      <td>1</td>\n",
       "      <td>0</td>\n",
       "      <td>...</td>\n",
       "      <td>11</td>\n",
       "      <td>20</td>\n",
       "      <td>0</td>\n",
       "      <td>1</td>\n",
       "      <td>1.03</td>\n",
       "      <td>3.38</td>\n",
       "      <td>13</td>\n",
       "      <td>28</td>\n",
       "      <td>3</td>\n",
       "      <td>16</td>\n",
       "    </tr>\n",
       "    <tr>\n",
       "      <th>13128</th>\n",
       "      <td>2024-03-19</td>\n",
       "      <td>Vegas Golden Knights</td>\n",
       "      <td>49</td>\n",
       "      <td>31</td>\n",
       "      <td>35</td>\n",
       "      <td>20</td>\n",
       "      <td>22</td>\n",
       "      <td>16</td>\n",
       "      <td>3</td>\n",
       "      <td>2</td>\n",
       "      <td>...</td>\n",
       "      <td>16</td>\n",
       "      <td>22</td>\n",
       "      <td>2</td>\n",
       "      <td>3</td>\n",
       "      <td>0.70</td>\n",
       "      <td>1.91</td>\n",
       "      <td>10</td>\n",
       "      <td>22</td>\n",
       "      <td>2</td>\n",
       "      <td>5</td>\n",
       "    </tr>\n",
       "  </tbody>\n",
       "</table>\n",
       "<p>13129 rows × 31 columns</p>\n",
       "</div>"
      ],
      "text/plain": [
       "            Date             Team_home  CF_home  CA_home  FF_home  FA_home  \\\n",
       "0     2013-10-01    Montreal Canadiens       56       39       44       26   \n",
       "1     2013-10-01    Chicago Blackhawks       42       34       30       21   \n",
       "2     2013-10-01       Edmonton Oilers       48       39       30       31   \n",
       "3     2013-10-02   Philadelphia Flyers       44       33       29       26   \n",
       "4     2013-10-02     Detroit Red Wings       43       20       36       14   \n",
       "...          ...                   ...      ...      ...      ...      ...   \n",
       "13124 2024-03-19       Edmonton Oilers       37       49       20       32   \n",
       "13125 2024-03-19         Anaheim Ducks       36       33       27       26   \n",
       "13126 2024-03-19     Los Angeles Kings       42       51       32       32   \n",
       "13127 2024-03-19     Vancouver Canucks       41       40       30       22   \n",
       "13128 2024-03-19  Vegas Golden Knights       49       31       35       20   \n",
       "\n",
       "       SF_home  SA_home  GF_home  GA_home  ...  SF_away  SA_away  GF_away  \\\n",
       "0           29       19        2        2  ...       19       29        2   \n",
       "1           25       16        4        1  ...       16       25        1   \n",
       "2           23       21        2        4  ...       21       23        4   \n",
       "3           17       21        0        2  ...       21       17        2   \n",
       "4           27       11        2        1  ...       11       27        1   \n",
       "...        ...      ...      ...      ...  ...      ...      ...      ...   \n",
       "13124       17       20        2        1  ...       20       17        1   \n",
       "13125       21       19        0        3  ...       19       21        3   \n",
       "13126       23       18        5        1  ...       18       23        1   \n",
       "13127       20       11        1        0  ...       11       20        0   \n",
       "13128       22       16        3        2  ...       16       22        2   \n",
       "\n",
       "       GA_away  xGF_away  xGA_away SCF_away  SCA_away  HDCF_away  HDCA_away  \n",
       "0            2      1.43      2.42       16        22          4         13  \n",
       "1            4      1.07      1.44       15        20          2          8  \n",
       "2            2      2.64      1.54       24        22         13          6  \n",
       "3            0      1.16      1.56       14        20          5          8  \n",
       "4            2      0.80      1.39        9        19          3          5  \n",
       "...        ...       ...       ...      ...       ...        ...        ...  \n",
       "13124        2      1.88      1.43       20        16          7          7  \n",
       "13125        0      1.28      1.33       15        10          3          6  \n",
       "13126        5      1.29      2.36       22        22          6         13  \n",
       "13127        1      1.03      3.38       13        28          3         16  \n",
       "13128        3      0.70      1.91       10        22          2          5  \n",
       "\n",
       "[13129 rows x 31 columns]"
      ]
     },
     "execution_count": 228,
     "metadata": {},
     "output_type": "execute_result"
    }
   ],
   "source": [
    "merged_data"
   ]
  },
  {
   "cell_type": "code",
   "execution_count": 229,
   "metadata": {},
   "outputs": [],
   "source": [
    "# Sort by Team_home and Date for home team calculations\n",
    "merged_data.sort_values(by=['Team_home', 'Date'], inplace=True)\n",
    "\n",
    "# Shift to get the previous game's date for home teams\n",
    "merged_data['Last Date_home'] = merged_data.groupby('Team_home')['Date'].shift()\n",
    "\n",
    "# Calculate days since last game for home teams\n",
    "merged_data['Days Since Last Game_home'] = (merged_data['Date'] - merged_data['Last Date_home']).dt.days"
   ]
  },
  {
   "cell_type": "code",
   "execution_count": 230,
   "metadata": {},
   "outputs": [],
   "source": [
    "# Sort by Team_away and Date for away team calculations\n",
    "merged_data.sort_values(by=['Team_away', 'Date'], inplace=True)\n",
    "\n",
    "# Shift to get the previous game's date for away teams\n",
    "merged_data['Last Date_away'] = merged_data.groupby('Team_away')['Date'].shift()\n",
    "\n",
    "# Calculate days since last game for away teams\n",
    "merged_data['Days Since Last Game_away'] = (merged_data['Date'] - merged_data['Last Date_away']).dt.days"
   ]
  },
  {
   "cell_type": "code",
   "execution_count": 231,
   "metadata": {},
   "outputs": [],
   "source": [
    "# Drop rows with missing dates\n",
    "merged_data.dropna(subset=['Date', 'Last Date_home', 'Last Date_away'], inplace=True)"
   ]
  },
  {
   "cell_type": "code",
   "execution_count": 234,
   "metadata": {},
   "outputs": [
    {
     "name": "stdout",
     "output_type": "stream",
     "text": [
      "          Date            Team_away Last Date_away  Days Since Last Game_away\n",
      "52  2013-10-10  Toronto Maple Leafs     2013-10-02                        8.0\n",
      "118 2013-10-19  Toronto Maple Leafs     2013-10-10                        9.0\n",
      "149 2013-10-25  Toronto Maple Leafs     2013-10-19                        6.0\n",
      "181 2013-10-29  Toronto Maple Leafs     2013-10-25                        4.0\n",
      "184 2013-10-30  Toronto Maple Leafs     2013-10-29                        1.0\n",
      "207 2013-11-02  Toronto Maple Leafs     2013-10-30                        3.0\n",
      "246 2013-11-09  Toronto Maple Leafs     2013-11-02                        7.0\n",
      "273 2013-11-13  Toronto Maple Leafs     2013-11-09                        4.0\n",
      "283 2013-11-15  Toronto Maple Leafs     2013-11-13                        2.0\n",
      "372 2013-11-27  Toronto Maple Leafs     2013-11-15                       12.0\n"
     ]
    }
   ],
   "source": [
    "# Select a team to inspect (e.g., 'Toronto Maple Leafs')\n",
    "team_to_inspect = 'Toronto Maple Leafs'\n",
    "\n",
    "# Filter the dataset for games where the selected team is the away team\n",
    "team_games = merged_data[merged_data['Team_away'] == team_to_inspect]\n",
    "\n",
    "# Display relevant columns\n",
    "inspection_columns = ['Date', 'Team_away', 'Last Date_away', 'Days Since Last Game_away']\n",
    "print(team_games[inspection_columns].head(10))  # Inspect the first 10 games"
   ]
  },
  {
   "cell_type": "code",
   "execution_count": 235,
   "metadata": {},
   "outputs": [],
   "source": [
    "# Create features based on days off\n",
    "def categorize_days_off(days):\n",
    "    if days == 1:\n",
    "        return 'B2B'  # Back-to-back\n",
    "    elif days == 2:\n",
    "        return '1 Day Off'\n",
    "    elif 3 <= days <= 4:\n",
    "        return '2-3 Days Off'\n",
    "    else:\n",
    "        return '4+ Days Off'"
   ]
  },
  {
   "cell_type": "code",
   "execution_count": 236,
   "metadata": {},
   "outputs": [],
   "source": [
    "merged_data['Days Off Category_home'] = merged_data['Days Since Last Game_home'].apply(categorize_days_off)\n",
    "merged_data['Days Off Category_away'] = merged_data['Days Since Last Game_away'].apply(categorize_days_off)"
   ]
  },
  {
   "cell_type": "code",
   "execution_count": 237,
   "metadata": {},
   "outputs": [],
   "source": [
    "# One-hot encode the days off categories\n",
    "merged_data = pd.get_dummies(merged_data, columns=['Days Off Category_home', 'Days Off Category_away'], drop_first=True)"
   ]
  },
  {
   "cell_type": "code",
   "execution_count": 238,
   "metadata": {},
   "outputs": [],
   "source": [
    "# Drop unnecessary columns\n",
    "merged_data.drop(columns=['Last Date_home', 'Last Date_away'], inplace=True)"
   ]
  },
  {
   "cell_type": "code",
   "execution_count": 240,
   "metadata": {},
   "outputs": [],
   "source": [
    "# Calculate goals above expected for home and away teams\n",
    "merged_data['Goals Above Expected_home'] = merged_data['GF_home'] - merged_data['xGF_home']\n",
    "merged_data['Goals Above Expected_away'] = merged_data['GF_away'] - merged_data['xGF_away']"
   ]
  },
  {
   "cell_type": "code",
   "execution_count": 243,
   "metadata": {},
   "outputs": [],
   "source": [
    "# Calculate rolling averages for home and away teams\n",
    "def calculate_rolling_averages(group, window=3):\n",
    "    group['Rolling Goals Above Expected_home'] = group['Goals Above Expected_home'].rolling(window=window, min_periods=1).sum()\n",
    "    group['Rolling Goals Above Expected_away'] = group['Goals Above Expected_away'].rolling(window=window, min_periods=1).sum()\n",
    "    \n",
    "    return group"
   ]
  },
  {
   "cell_type": "code",
   "execution_count": 244,
   "metadata": {},
   "outputs": [],
   "source": [
    "# Apply rolling averages to each home and away team\n",
    "merged_data = merged_data.groupby('Team_home').apply(calculate_rolling_averages)\n",
    "merged_data = merged_data.groupby('Team_away').apply(calculate_rolling_averages)"
   ]
  },
  {
   "cell_type": "code",
   "execution_count": 245,
   "metadata": {},
   "outputs": [],
   "source": [
    "# Set index and sort\n",
    "merged_data.set_index('Date', inplace=True)\n",
    "merged_data.sort_index(inplace=True)"
   ]
  },
  {
   "cell_type": "code",
   "execution_count": 246,
   "metadata": {},
   "outputs": [],
   "source": [
    "# Add rolling averages for goals scored and conceded (from earlier code)\n",
    "merged_data['GF_avg_home'] = merged_data.groupby('Team_home')['GF_home'].transform(lambda x: x.rolling(window=5, min_periods=1).mean())\n",
    "merged_data['GA_avg_home'] = merged_data.groupby('Team_home')['GA_home'].transform(lambda x: x.rolling(window=5, min_periods=1).mean())\n",
    "merged_data['GF_avg_away'] = merged_data.groupby('Team_away')['GF_away'].transform(lambda x: x.rolling(window=5, min_periods=1).mean())\n",
    "merged_data['GA_avg_away'] = merged_data.groupby('Team_away')['GA_away'].transform(lambda x: x.rolling(window=5, min_periods=1).mean())"
   ]
  },
  {
   "cell_type": "code",
   "execution_count": 249,
   "metadata": {},
   "outputs": [
    {
     "data": {
      "text/plain": [
       "Index(['Team_home', 'CF_home', 'CA_home', 'FF_home', 'FA_home', 'SF_home',\n",
       "       'SA_home', 'GF_home', 'GA_home', 'xGF_home', 'xGA_home', 'SCF_home',\n",
       "       'SCA_home', 'HDCF_home', 'HDCA_home', 'Team_away', 'CF_away', 'CA_away',\n",
       "       'FF_away', 'FA_away', 'SF_away', 'SA_away', 'GF_away', 'GA_away',\n",
       "       'xGF_away', 'xGA_away', 'SCF_away', 'SCA_away', 'HDCF_away',\n",
       "       'HDCA_away', 'Days Since Last Game_home', 'Days Since Last Game_away',\n",
       "       'Days Off Category_home_2-3 Days Off',\n",
       "       'Days Off Category_home_4+ Days Off', 'Days Off Category_home_B2B',\n",
       "       'Days Off Category_away_2-3 Days Off',\n",
       "       'Days Off Category_away_4+ Days Off', 'Days Off Category_away_B2B',\n",
       "       'Goals Above Expected_home', 'Goals Above Expected_away',\n",
       "       'Rolling Goals Above Expected_home',\n",
       "       'Rolling Goals Above Expected_away', 'GF_avg_home', 'GA_avg_home',\n",
       "       'GF_avg_away', 'GA_avg_away'],\n",
       "      dtype='object')"
      ]
     },
     "execution_count": 249,
     "metadata": {},
     "output_type": "execute_result"
    }
   ],
   "source": [
    "merged_data.columns"
   ]
  },
  {
   "cell_type": "code",
   "execution_count": 250,
   "metadata": {},
   "outputs": [],
   "source": [
    "# Define features and target\n",
    "features = [\n",
    "    # Home team stats\n",
    "    'CF_home', 'CA_home', 'FF_home', 'FA_home', 'SF_home', 'SA_home',\n",
    "    'xGF_home', 'xGA_home', 'SCF_home', 'SCA_home', 'HDCF_home', 'HDCA_home',\n",
    "    \n",
    "    # Away team stats\n",
    "    'CF_away', 'CA_away', 'FF_away', 'FA_away', 'SF_away', 'SA_away',\n",
    "    'xGF_away', 'xGA_away', 'SCF_away', 'SCA_away', 'HDCF_away', 'HDCA_away',\n",
    "    \n",
    "    # Rolling averages\n",
    "    'GF_avg_home', 'GA_avg_home', 'GF_avg_away', 'GA_avg_away',\n",
    "    \n",
    "    # Goals above expected (rolling)\n",
    "    'Rolling Goals Above Expected_home', 'Rolling Goals Above Expected_away',\n",
    "\n",
    "    # Days off features\n",
    "    'Days Off Category_home_2-3 Days Off', 'Days Off Category_home_4+ Days Off', 'Days Off Category_home_B2B',\n",
    "    'Days Off Category_away_2-3 Days Off', 'Days Off Category_away_4+ Days Off', 'Days Off Category_away_B2B',\n",
    "]\n",
    "\n",
    "target_home = 'GF_home'\n",
    "target_away = 'GF_away'"
   ]
  },
  {
   "cell_type": "code",
   "execution_count": 251,
   "metadata": {},
   "outputs": [],
   "source": [
    "X = merged_data[features]\n",
    "y_home = merged_data[target_home]\n",
    "y_away = merged_data[target_away]"
   ]
  },
  {
   "cell_type": "code",
   "execution_count": 252,
   "metadata": {},
   "outputs": [],
   "source": [
    "# Split data\n",
    "X_train, X_test, y_train_home, y_test_home, y_train_away, y_test_away = train_test_split(\n",
    "    X, y_home, y_away, test_size=0.2, random_state=42\n",
    ")"
   ]
  },
  {
   "cell_type": "code",
   "execution_count": 253,
   "metadata": {},
   "outputs": [],
   "source": [
    "# # Train model (example: Random Forest)\n",
    "\n",
    "# model_home = RandomForestRegressor(random_state=42)\n",
    "# model_away = RandomForestRegressor(random_state=42)\n",
    "\n",
    "# model_home.fit(X_train, y_train_home)\n",
    "# model_away.fit(X_train, y_train_away)\n",
    "\n",
    "# # Evaluate\n",
    "# y_pred_home = model_home.predict(X_test)\n",
    "# y_pred_away = model_away.predict(X_test)\n",
    "\n",
    "# print(\"Home MAE:\", mean_absolute_error(y_test_home, y_pred_home))\n",
    "# print(\"Away MAE:\", mean_absolute_error(y_test_away, y_pred_away))"
   ]
  },
  {
   "cell_type": "code",
   "execution_count": null,
   "metadata": {},
   "outputs": [
    {
     "name": "stdout",
     "output_type": "stream",
     "text": [
      "Fitting 3 folds for each of 27 candidates, totalling 81 fits\n"
     ]
    }
   ],
   "source": [
    "# Train model (example: Grid Search CV with Random Forest)\n",
    "\n",
    "# Define parameter grid\n",
    "param_grid = {\n",
    "    'n_estimators': [100, 200, 300],\n",
    "    'max_depth': [None, 10, 20],\n",
    "    'min_samples_split': [2, 5, 10]\n",
    "}\n",
    "\n",
    "# Perform grid search\n",
    "grid_search = GridSearchCV(\n",
    "    RandomForestRegressor(random_state=42),\n",
    "    param_grid,\n",
    "    cv=3,\n",
    "    scoring='neg_mean_absolute_error',\n",
    "    n_jobs=-1,  # Use all available CPU cores\n",
    "    verbose=2   # Print progress updates\n",
    ")\n",
    "grid_search.fit(X_train, y_train_home)\n",
    "\n",
    "# Best parameters\n",
    "print(\"Best parameters:\", grid_search.best_params_)\n",
    "\n",
    "# Train model with best parameters\n",
    "best_model_home = grid_search.best_estimator_\n",
    "best_model_home.fit(X_train, y_train_home)\n",
    "\n",
    "# Evaluate\n",
    "y_pred_home = best_model_home.predict(X_test)\n",
    "print(\"Home MAE (tuned):\", mean_absolute_error(y_test_home, y_pred_home))"
   ]
  },
  {
   "cell_type": "code",
   "execution_count": 159,
   "metadata": {},
   "outputs": [
    {
     "data": {
      "image/png": "[encoded data removed]",
      "text/plain": [
       "<Figure size 1000x600 with 1 Axes>"
      ]
     },
     "metadata": {},
     "output_type": "display_data"
    }
   ],
   "source": [
    "import matplotlib.pyplot as plt\n",
    "\n",
    "# Get feature importances\n",
    "importances = best_model_home.feature_importances_\n",
    "feature_names = X.columns\n",
    "\n",
    "# Plot feature importances\n",
    "plt.figure(figsize=(10, 6))\n",
    "plt.barh(feature_names, importances)\n",
    "plt.xlabel(\"Feature Importance\")\n",
    "plt.ylabel(\"Feature\")\n",
    "plt.title(\"Random Forest Feature Importance\")\n",
    "plt.show()"
   ]
  },
  {
   "cell_type": "code",
   "execution_count": 160,
   "metadata": {},
   "outputs": [
    {
     "data": {
      "text/plain": [
       "Index(['CF_home', 'CA_home', 'FF_home', 'FA_home', 'SF_home', 'SA_home',\n",
       "       'xGF_home', 'xGA_home', 'SCF_home', 'SCA_home', 'HDCF_home',\n",
       "       'HDCA_home', 'CF_away', 'CA_away', 'FF_away', 'FA_away', 'SF_away',\n",
       "       'SA_away', 'xGF_away', 'xGA_away', 'SCF_away', 'SCA_away', 'HDCF_away',\n",
       "       'HDCA_away', 'Distance Traveled_home', 'Distance Traveled_away',\n",
       "       'Rolling Goals Above Expected_home',\n",
       "       'Rolling Goals Above Expected_away', 'GF_avg_home', 'GA_avg_home',\n",
       "       'GF_avg_away', 'GA_avg_away'],\n",
       "      dtype='object')"
      ]
     },
     "execution_count": 160,
     "metadata": {},
     "output_type": "execute_result"
    }
   ],
   "source": [
    "feature_names"
   ]
  },
  {
   "cell_type": "code",
   "execution_count": 161,
   "metadata": {},
   "outputs": [
    {
     "data": {
      "text/plain": [
       "array([0.01043496, 0.00855039, 0.00603872, 0.00569411, 0.00943065,\n",
       "       0.00627056, 0.0462098 , 0.00814454, 0.00799828, 0.00602758,\n",
       "       0.0105583 , 0.00522561, 0.00861505, 0.00999783, 0.00597608,\n",
       "       0.00640669, 0.0062818 , 0.00930869, 0.00794741, 0.04942737,\n",
       "       0.00601938, 0.00785645, 0.00551119, 0.0104121 , 0.00124697,\n",
       "       0.00040128, 0.36018412, 0.02351667, 0.14750443, 0.0131836 ,\n",
       "       0.01395482, 0.1756646 ])"
      ]
     },
     "execution_count": 161,
     "metadata": {},
     "output_type": "execute_result"
    }
   ],
   "source": [
    "importances"
   ]
  },
  {
   "cell_type": "code",
   "execution_count": null,
   "metadata": {},
   "outputs": [],
   "source": []
  }
 ],
 "metadata": {
  "kernelspec": {
   "display_name": "Python 3",
   "language": "python",
   "name": "python3"
  },
  "language_info": {
   "codemirror_mode": {
    "name": "ipython",
    "version": 3
   },
   "file_extension": ".py",
   "mimetype": "text/x-python",
   "name": "python",
   "nbconvert_exporter": "python",
   "pygments_lexer": "ipython3",
   "version": "3.10.5"
  }
 },
 "nbformat": 4,
 "nbformat_minor": 2
}
